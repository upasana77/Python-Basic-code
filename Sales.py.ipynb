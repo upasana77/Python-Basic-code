{
 "cells": [
  {
   "cell_type": "markdown",
   "id": "5ddbba11",
   "metadata": {},
   "source": [
    "1.DATA PREPRATION"
   ]
  },
  {
   "cell_type": "code",
   "execution_count": null,
   "id": "9ddea521",
   "metadata": {},
   "outputs": [],
   "source": [
    "#so like amazon,flipkart companies are sailing lakhs of product, so we can think how much huge amount of data,\n",
    "#these companies are creating,now the question is what type of data they are creating, let's say a customer\n",
    "# i.e going to buy a product, will have a order ID, Product Name, Quantity of product, Price of product,\n",
    "# purchase adress and many more attributes.so that type of data the person is going to produce.so as a data analyst,\n",
    "# we have to analyse these data,so let's say I kave to analyse what are my most sold products?\n",
    "# we can visualise it through a pie-chart that which product is my most sold product,or let's say I will have\n",
    "# to analyse in which months my earning were best? for this we can create a bar chart to visualise our data,or \n",
    "# with the bar graph, we could conclude in which city, the company has maximum sale.so that is \n",
    "# basically the rough idea of what type of analysis we can perform on this sales data.\n"
   ]
  },
  {
   "cell_type": "code",
   "execution_count": null,
   "id": "5f31cb7a",
   "metadata": {},
   "outputs": [],
   "source": [
    "# so i have my sales data for each and every month, so my assignment for this sales data is : \n",
    "# I have to do data prepration"
   ]
  },
  {
   "cell_type": "code",
   "execution_count": 2,
   "id": "a43ee77c",
   "metadata": {},
   "outputs": [],
   "source": [
    "# here I am going to import my panda,so that i can read and manipulate my data.\n",
    "# I am going to import numpy to do some numerical task\n",
    "# and for visualization , I am going to import my matplotlib. and will execute all the import librery.\n",
    "import pandas as pd\n",
    "import numpy as np\n",
    "import matplotlib.pyplot as plt\n",
    "import os\n"
   ]
  },
  {
   "cell_type": "code",
   "execution_count": 3,
   "id": "bf5990b6",
   "metadata": {},
   "outputs": [],
   "source": [
    "# As we have multiple datasets to work with,so I am going to combine all the files,so basically, \n",
    "#I need some of the advanced libraries,and some advanced function to combine,and then I have to read the combine file.\n",
    "#so the library that I need is 'os' librery, so os is my operating system.so whenever we have to create some \n",
    "# folder or directory or we have to remove the directory,or we have to do some modification,or we have to \n",
    "# make a directory, in such case,we have to deal with this os librery.after importing the li brery, I can fetch \n",
    "# all the files available in this particular location. after importing the 'os'librery we can fetch all the files\n",
    "# or more than one file together,so now I am going to copy the path,in my following statement I have passed my entire\n",
    "# path,if we execute the following statement, as we can see we have all the listed files in the given folder.\n",
    "# So that's the beauty of the os librery,so 'listdir' means a list of all the files available at tahat path.\n",
    "# so I am just going to iterate over the list of files by appling a for loop,\n",
    "# so now I am going to use my list comprehension, where I am going to append each and every file in my list,\n",
    "# and finally i will store everything with a variable name Files,so I want to print my each file.\n",
    "# so it will give me my all files"
   ]
  },
  {
   "cell_type": "code",
   "execution_count": 4,
   "id": "3470147c",
   "metadata": {},
   "outputs": [
    {
     "name": "stdout",
     "output_type": "stream",
     "text": [
      "Sales_December_2019.csv\n",
      ".DS_Store\n",
      "Sales_April_2019.csv\n",
      "Sales_February_2019.csv\n",
      "Sales_March_2019.csv\n",
      "Sales_August_2019.csv\n",
      "Sales_May_2019.csv\n",
      "all_data.csv\n",
      "Sales_November_2019.csv\n",
      "Sales_October_2019.csv\n",
      "Sales_January_2019.csv\n",
      "Sales_September_2019 copy.csv\n",
      "Sales_September_2019.csv\n",
      "Sales_July_2019.csv\n",
      "Sales_June_2019.csv\n"
     ]
    }
   ],
   "source": [
    "files=[file for file in os.listdir('/Users/upasanapurohit/Desktop/Sales-Data')]\n",
    "for file in files:\n",
    "    print(file)"
   ]
  },
  {
   "cell_type": "code",
   "execution_count": 5,
   "id": "a9d95f9c",
   "metadata": {},
   "outputs": [],
   "source": [
    "# now I have to read all these files,so basically I can combine all these files, and then I can read it,\n",
    "# instead of reading one by one,for this I am going to declare my blank data-frame, I am going to concatenate, my all\n",
    "# files into 'all_data'.Then I am going to iterate over my list which is my files here,where I have to read each\n",
    "# and every file, as I have to read, I have define my path, and 'current_df' is my data frame name\n",
    "# ,now I have to concatenate the 'current_df' dataframe with the 'all_data' blank data-frame,So I am going to say\n",
    "# pd.concate, and will pass my both data-frame un the form of list, and now I will update, as 'all_data'\n",
    "# all_data.shape where I will check the shape of my data_frame"
   ]
  },
  {
   "cell_type": "code",
   "execution_count": 6,
   "id": "2dd0d630",
   "metadata": {},
   "outputs": [
    {
     "data": {
      "text/plain": [
       "(794144, 7)"
      ]
     },
     "execution_count": 6,
     "metadata": {},
     "output_type": "execute_result"
    }
   ],
   "source": [
    "path = ('/Users/upasanapurohit/Desktop/Sales-Data')\n",
    "all_data = pd.DataFrame()\n",
    "for file in files:\n",
    "    current_df=pd.read_csv(path+\"/\"+file)\n",
    "    all_data= pd.concat([all_data,current_df])\n",
    "all_data.shape"
   ]
  },
  {
   "cell_type": "code",
   "execution_count": 7,
   "id": "aa11c2ed",
   "metadata": {},
   "outputs": [],
   "source": [
    "# let's say I have to convert the Data_Frame to a csv file,and In the argument I will pass, the path where I will\n",
    "# have to save the data,and I am going to set my index as false because I do not want index of my data,\n",
    "# so if I will execute the statement it will covert all the data_frame into csv with the given particulaar location.or\n",
    "# in my own path.now I am going to check my data-frame,now we can see our first 5 rows, where we have oreder-id\n",
    "#  product-name as product, quantity of oreder, each product price,order date, and also we have adress column,\n"
   ]
  },
  {
   "cell_type": "code",
   "execution_count": 8,
   "id": "ef69b60b",
   "metadata": {},
   "outputs": [],
   "source": [
    "all_data.to_csv('/Users/upasanapurohit/Desktop/Sales-Data/all_data.csv',index=False)"
   ]
  },
  {
   "cell_type": "code",
   "execution_count": 9,
   "id": "3911d777",
   "metadata": {},
   "outputs": [
    {
     "data": {
      "text/html": [
       "<div>\n",
       "<style scoped>\n",
       "    .dataframe tbody tr th:only-of-type {\n",
       "        vertical-align: middle;\n",
       "    }\n",
       "\n",
       "    .dataframe tbody tr th {\n",
       "        vertical-align: top;\n",
       "    }\n",
       "\n",
       "    .dataframe thead th {\n",
       "        text-align: right;\n",
       "    }\n",
       "</style>\n",
       "<table border=\"1\" class=\"dataframe\">\n",
       "  <thead>\n",
       "    <tr style=\"text-align: right;\">\n",
       "      <th></th>\n",
       "      <th>Order ID</th>\n",
       "      <th>Product</th>\n",
       "      <th>Quantity Ordered</th>\n",
       "      <th>Price Each</th>\n",
       "      <th>Order Date</th>\n",
       "      <th>Purchase Address</th>\n",
       "      <th>Unnamed: 0</th>\n",
       "    </tr>\n",
       "  </thead>\n",
       "  <tbody>\n",
       "    <tr>\n",
       "      <th>0</th>\n",
       "      <td>295665</td>\n",
       "      <td>Macbook Pro Laptop</td>\n",
       "      <td>1</td>\n",
       "      <td>1700</td>\n",
       "      <td>12/30/19 00:01</td>\n",
       "      <td>136 Church St, New York City, NY 10001</td>\n",
       "      <td>NaN</td>\n",
       "    </tr>\n",
       "    <tr>\n",
       "      <th>1</th>\n",
       "      <td>295666</td>\n",
       "      <td>LG Washing Machine</td>\n",
       "      <td>1</td>\n",
       "      <td>600.0</td>\n",
       "      <td>12/29/19 07:03</td>\n",
       "      <td>562 2nd St, New York City, NY 10001</td>\n",
       "      <td>NaN</td>\n",
       "    </tr>\n",
       "    <tr>\n",
       "      <th>2</th>\n",
       "      <td>295667</td>\n",
       "      <td>USB-C Charging Cable</td>\n",
       "      <td>1</td>\n",
       "      <td>11.95</td>\n",
       "      <td>12/12/19 18:21</td>\n",
       "      <td>277 Main St, New York City, NY 10001</td>\n",
       "      <td>NaN</td>\n",
       "    </tr>\n",
       "    <tr>\n",
       "      <th>3</th>\n",
       "      <td>295668</td>\n",
       "      <td>27in FHD Monitor</td>\n",
       "      <td>1</td>\n",
       "      <td>149.99</td>\n",
       "      <td>12/22/19 15:13</td>\n",
       "      <td>410 6th St, San Francisco, CA 94016</td>\n",
       "      <td>NaN</td>\n",
       "    </tr>\n",
       "    <tr>\n",
       "      <th>4</th>\n",
       "      <td>295669</td>\n",
       "      <td>USB-C Charging Cable</td>\n",
       "      <td>1</td>\n",
       "      <td>11.95</td>\n",
       "      <td>12/18/19 12:38</td>\n",
       "      <td>43 Hill St, Atlanta, GA 30301</td>\n",
       "      <td>NaN</td>\n",
       "    </tr>\n",
       "  </tbody>\n",
       "</table>\n",
       "</div>"
      ],
      "text/plain": [
       "  Order ID               Product Quantity Ordered Price Each      Order Date  \\\n",
       "0   295665    Macbook Pro Laptop                1       1700  12/30/19 00:01   \n",
       "1   295666    LG Washing Machine                1      600.0  12/29/19 07:03   \n",
       "2   295667  USB-C Charging Cable                1      11.95  12/12/19 18:21   \n",
       "3   295668      27in FHD Monitor                1     149.99  12/22/19 15:13   \n",
       "4   295669  USB-C Charging Cable                1      11.95  12/18/19 12:38   \n",
       "\n",
       "                         Purchase Address Unnamed: 0  \n",
       "0  136 Church St, New York City, NY 10001        NaN  \n",
       "1     562 2nd St, New York City, NY 10001        NaN  \n",
       "2    277 Main St, New York City, NY 10001        NaN  \n",
       "3     410 6th St, San Francisco, CA 94016        NaN  \n",
       "4           43 Hill St, Atlanta, GA 30301        NaN  "
      ]
     },
     "execution_count": 9,
     "metadata": {},
     "output_type": "execute_result"
    }
   ],
   "source": [
    "all_data.head()"
   ]
  },
  {
   "cell_type": "code",
   "execution_count": 10,
   "id": "e31e74c7",
   "metadata": {},
   "outputs": [
    {
     "data": {
      "text/plain": [
       "Order ID              2340\n",
       "Product               2340\n",
       "Quantity Ordered      2340\n",
       "Price Each            2340\n",
       "Order Date            2340\n",
       "Purchase Address      2340\n",
       "Unnamed: 0          794144\n",
       "dtype: int64"
      ]
     },
     "execution_count": 10,
     "metadata": {},
     "output_type": "execute_result"
    }
   ],
   "source": [
    "# now I am going to check whreather I have any null value or not,now we will see all the missing values\n",
    "all_data.isnull().sum()"
   ]
  },
  {
   "cell_type": "code",
   "execution_count": 11,
   "id": "56c02c10",
   "metadata": {},
   "outputs": [],
   "source": [
    "# as we can see we have somewhere around 1170 missing values. Now I am going to DROP all the missing value\n",
    "# if after removing the missing values, we can see our shape of the data-frame has reduced. which was before (397072)"
   ]
  },
  {
   "cell_type": "code",
   "execution_count": 12,
   "id": "8d213ee8",
   "metadata": {},
   "outputs": [
    {
     "data": {
      "text/plain": [
       "(791804, 7)"
      ]
     },
     "execution_count": 12,
     "metadata": {},
     "output_type": "execute_result"
    }
   ],
   "source": [
    "all_data=all_data.dropna(how='all')\n",
    "all_data.shape"
   ]
  },
  {
   "cell_type": "code",
   "execution_count": 13,
   "id": "18eaa4a7",
   "metadata": {},
   "outputs": [],
   "source": [
    "#finally, we have finished our DATA PREPRATIN ASSIGNMENT."
   ]
  },
  {
   "cell_type": "markdown",
   "id": "d59e397c",
   "metadata": {},
   "source": [
    "2.WHAT IS THE BEST MONTH FOR SALE?"
   ]
  },
  {
   "cell_type": "code",
   "execution_count": 14,
   "id": "0cde95b7",
   "metadata": {},
   "outputs": [],
   "source": [
    "# if we go up in the DataFrame section we can see, in the order date column, I have my months,\n",
    "#the 12 is exjactly my month,so how we will fetch this month from the order-date.so What I am going to do,\n",
    "# I am going to copy the entire order-date,and going to past here,and this is my string,\n",
    "# now I am going to call split function,so the split is on the basis of slash operator, \n",
    "# so if we are going to execute it, it will return a list,and it gets split on the basis of the separator.\n",
    "# if we have to get  the zero index value, I am going to pass the zero-index of the list."
   ]
  },
  {
   "cell_type": "code",
   "execution_count": 15,
   "id": "fc34a9b5",
   "metadata": {},
   "outputs": [
    {
     "data": {
      "text/plain": [
       "['12', '30', '19 00:01']"
      ]
     },
     "execution_count": 15,
     "metadata": {},
     "output_type": "execute_result"
    }
   ],
   "source": [
    "'12/30/19 00:01'.split('/')"
   ]
  },
  {
   "cell_type": "code",
   "execution_count": 16,
   "id": "e46d1395",
   "metadata": {},
   "outputs": [
    {
     "data": {
      "text/plain": [
       "'12'"
      ]
     },
     "execution_count": 16,
     "metadata": {},
     "output_type": "execute_result"
    }
   ],
   "source": [
    "'12/30/19 00:01'.split('/')[0]"
   ]
  },
  {
   "cell_type": "code",
   "execution_count": 17,
   "id": "13455add",
   "metadata": {},
   "outputs": [],
   "source": [
    "# Now I am going to define a function, with the name of function as month,I have to pass the above ligic, and I have \n",
    "# return this logic."
   ]
  },
  {
   "cell_type": "code",
   "execution_count": 18,
   "id": "ddd17cfd",
   "metadata": {},
   "outputs": [],
   "source": [
    "def month(x):\n",
    "    return x.split('/')[0]"
   ]
  },
  {
   "cell_type": "code",
   "execution_count": 19,
   "id": "68dfb156",
   "metadata": {},
   "outputs": [],
   "source": [
    "#now we have to apply the function, over \"order date\", whatever value I will get, I will have to store each and every\n",
    "# value in my month column, I am going to assign it to my month column,now I will call head function,\n",
    "# now we can see the month column has been added over-here."
   ]
  },
  {
   "cell_type": "code",
   "execution_count": 20,
   "id": "15f1a9b4",
   "metadata": {},
   "outputs": [],
   "source": [
    "all_data['month']=all_data['Order Date'].apply(month)"
   ]
  },
  {
   "cell_type": "code",
   "execution_count": 21,
   "id": "a9dbeff1",
   "metadata": {},
   "outputs": [
    {
     "data": {
      "text/html": [
       "<div>\n",
       "<style scoped>\n",
       "    .dataframe tbody tr th:only-of-type {\n",
       "        vertical-align: middle;\n",
       "    }\n",
       "\n",
       "    .dataframe tbody tr th {\n",
       "        vertical-align: top;\n",
       "    }\n",
       "\n",
       "    .dataframe thead th {\n",
       "        text-align: right;\n",
       "    }\n",
       "</style>\n",
       "<table border=\"1\" class=\"dataframe\">\n",
       "  <thead>\n",
       "    <tr style=\"text-align: right;\">\n",
       "      <th></th>\n",
       "      <th>Order ID</th>\n",
       "      <th>Product</th>\n",
       "      <th>Quantity Ordered</th>\n",
       "      <th>Price Each</th>\n",
       "      <th>Order Date</th>\n",
       "      <th>Purchase Address</th>\n",
       "      <th>Unnamed: 0</th>\n",
       "      <th>month</th>\n",
       "    </tr>\n",
       "  </thead>\n",
       "  <tbody>\n",
       "    <tr>\n",
       "      <th>0</th>\n",
       "      <td>295665</td>\n",
       "      <td>Macbook Pro Laptop</td>\n",
       "      <td>1</td>\n",
       "      <td>1700</td>\n",
       "      <td>12/30/19 00:01</td>\n",
       "      <td>136 Church St, New York City, NY 10001</td>\n",
       "      <td>NaN</td>\n",
       "      <td>12</td>\n",
       "    </tr>\n",
       "    <tr>\n",
       "      <th>1</th>\n",
       "      <td>295666</td>\n",
       "      <td>LG Washing Machine</td>\n",
       "      <td>1</td>\n",
       "      <td>600.0</td>\n",
       "      <td>12/29/19 07:03</td>\n",
       "      <td>562 2nd St, New York City, NY 10001</td>\n",
       "      <td>NaN</td>\n",
       "      <td>12</td>\n",
       "    </tr>\n",
       "    <tr>\n",
       "      <th>2</th>\n",
       "      <td>295667</td>\n",
       "      <td>USB-C Charging Cable</td>\n",
       "      <td>1</td>\n",
       "      <td>11.95</td>\n",
       "      <td>12/12/19 18:21</td>\n",
       "      <td>277 Main St, New York City, NY 10001</td>\n",
       "      <td>NaN</td>\n",
       "      <td>12</td>\n",
       "    </tr>\n",
       "    <tr>\n",
       "      <th>3</th>\n",
       "      <td>295668</td>\n",
       "      <td>27in FHD Monitor</td>\n",
       "      <td>1</td>\n",
       "      <td>149.99</td>\n",
       "      <td>12/22/19 15:13</td>\n",
       "      <td>410 6th St, San Francisco, CA 94016</td>\n",
       "      <td>NaN</td>\n",
       "      <td>12</td>\n",
       "    </tr>\n",
       "    <tr>\n",
       "      <th>4</th>\n",
       "      <td>295669</td>\n",
       "      <td>USB-C Charging Cable</td>\n",
       "      <td>1</td>\n",
       "      <td>11.95</td>\n",
       "      <td>12/18/19 12:38</td>\n",
       "      <td>43 Hill St, Atlanta, GA 30301</td>\n",
       "      <td>NaN</td>\n",
       "      <td>12</td>\n",
       "    </tr>\n",
       "  </tbody>\n",
       "</table>\n",
       "</div>"
      ],
      "text/plain": [
       "  Order ID               Product Quantity Ordered Price Each      Order Date  \\\n",
       "0   295665    Macbook Pro Laptop                1       1700  12/30/19 00:01   \n",
       "1   295666    LG Washing Machine                1      600.0  12/29/19 07:03   \n",
       "2   295667  USB-C Charging Cable                1      11.95  12/12/19 18:21   \n",
       "3   295668      27in FHD Monitor                1     149.99  12/22/19 15:13   \n",
       "4   295669  USB-C Charging Cable                1      11.95  12/18/19 12:38   \n",
       "\n",
       "                         Purchase Address Unnamed: 0 month  \n",
       "0  136 Church St, New York City, NY 10001        NaN    12  \n",
       "1     562 2nd St, New York City, NY 10001        NaN    12  \n",
       "2    277 Main St, New York City, NY 10001        NaN    12  \n",
       "3     410 6th St, San Francisco, CA 94016        NaN    12  \n",
       "4           43 Hill St, Atlanta, GA 30301        NaN    12  "
      ]
     },
     "execution_count": 21,
     "metadata": {},
     "output_type": "execute_result"
    }
   ],
   "source": [
    "all_data.head()"
   ]
  },
  {
   "cell_type": "code",
   "execution_count": 22,
   "id": "8c819215",
   "metadata": {},
   "outputs": [],
   "source": [
    "# now I have to make a 'sales' column as we want to see what is the best month for sales?\n",
    "# so my sales is basically, Quantity Ordered * Price Each\n",
    "\n"
   ]
  },
  {
   "cell_type": "code",
   "execution_count": 23,
   "id": "d2a23f16",
   "metadata": {},
   "outputs": [
    {
     "data": {
      "text/plain": [
       "Order ID            object\n",
       "Product             object\n",
       "Quantity Ordered    object\n",
       "Price Each          object\n",
       "Order Date          object\n",
       "Purchase Address    object\n",
       "Unnamed: 0          object\n",
       "month               object\n",
       "dtype: object"
      ]
     },
     "execution_count": 23,
     "metadata": {},
     "output_type": "execute_result"
    }
   ],
   "source": [
    "# let's say I am going to check the data-type of my data-frame,\n",
    "# where we can see our Quantity Ordered and Price Each both are object means string data-type.\n",
    "all_data.dtypes"
   ]
  },
  {
   "cell_type": "code",
   "execution_count": 24,
   "id": "fa5335da",
   "metadata": {},
   "outputs": [],
   "source": [
    "# as the data-type is string we need to change the data_type of the three columns\n",
    "# (Quantity Ordered,Price Each,Order Date),\n",
    "# so first I am going to change the data-type of my month,I assigned it to all_data['month']\n",
    "# we are getting invalid literal error,"
   ]
  },
  {
   "cell_type": "code",
   "execution_count": 25,
   "id": "8cf0e898",
   "metadata": {},
   "outputs": [
    {
     "ename": "ValueError",
     "evalue": "invalid literal for int() with base 10: 'Order Date'",
     "output_type": "error",
     "traceback": [
      "\u001b[0;31m---------------------------------------------------------------------------\u001b[0m",
      "\u001b[0;31mValueError\u001b[0m                                Traceback (most recent call last)",
      "\u001b[0;32m<ipython-input-25-e7cba1003774>\u001b[0m in \u001b[0;36m<module>\u001b[0;34m\u001b[0m\n\u001b[0;32m----> 1\u001b[0;31m \u001b[0mall_data\u001b[0m\u001b[0;34m[\u001b[0m\u001b[0;34m'month'\u001b[0m\u001b[0;34m]\u001b[0m\u001b[0;34m=\u001b[0m\u001b[0mall_data\u001b[0m\u001b[0;34m[\u001b[0m\u001b[0;34m'month'\u001b[0m\u001b[0;34m]\u001b[0m\u001b[0;34m.\u001b[0m\u001b[0mastype\u001b[0m\u001b[0;34m(\u001b[0m\u001b[0mint\u001b[0m\u001b[0;34m)\u001b[0m\u001b[0;34m\u001b[0m\u001b[0;34m\u001b[0m\u001b[0m\n\u001b[0m",
      "\u001b[0;32m~/opt/anaconda3/lib/python3.8/site-packages/pandas/core/generic.py\u001b[0m in \u001b[0;36mastype\u001b[0;34m(self, dtype, copy, errors)\u001b[0m\n\u001b[1;32m   5875\u001b[0m         \u001b[0;32melse\u001b[0m\u001b[0;34m:\u001b[0m\u001b[0;34m\u001b[0m\u001b[0;34m\u001b[0m\u001b[0m\n\u001b[1;32m   5876\u001b[0m             \u001b[0;31m# else, only a single dtype is given\u001b[0m\u001b[0;34m\u001b[0m\u001b[0;34m\u001b[0m\u001b[0;34m\u001b[0m\u001b[0m\n\u001b[0;32m-> 5877\u001b[0;31m             \u001b[0mnew_data\u001b[0m \u001b[0;34m=\u001b[0m \u001b[0mself\u001b[0m\u001b[0;34m.\u001b[0m\u001b[0m_mgr\u001b[0m\u001b[0;34m.\u001b[0m\u001b[0mastype\u001b[0m\u001b[0;34m(\u001b[0m\u001b[0mdtype\u001b[0m\u001b[0;34m=\u001b[0m\u001b[0mdtype\u001b[0m\u001b[0;34m,\u001b[0m \u001b[0mcopy\u001b[0m\u001b[0;34m=\u001b[0m\u001b[0mcopy\u001b[0m\u001b[0;34m,\u001b[0m \u001b[0merrors\u001b[0m\u001b[0;34m=\u001b[0m\u001b[0merrors\u001b[0m\u001b[0;34m)\u001b[0m\u001b[0;34m\u001b[0m\u001b[0;34m\u001b[0m\u001b[0m\n\u001b[0m\u001b[1;32m   5878\u001b[0m             \u001b[0;32mreturn\u001b[0m \u001b[0mself\u001b[0m\u001b[0;34m.\u001b[0m\u001b[0m_constructor\u001b[0m\u001b[0;34m(\u001b[0m\u001b[0mnew_data\u001b[0m\u001b[0;34m)\u001b[0m\u001b[0;34m.\u001b[0m\u001b[0m__finalize__\u001b[0m\u001b[0;34m(\u001b[0m\u001b[0mself\u001b[0m\u001b[0;34m,\u001b[0m \u001b[0mmethod\u001b[0m\u001b[0;34m=\u001b[0m\u001b[0;34m\"astype\"\u001b[0m\u001b[0;34m)\u001b[0m\u001b[0;34m\u001b[0m\u001b[0;34m\u001b[0m\u001b[0m\n\u001b[1;32m   5879\u001b[0m \u001b[0;34m\u001b[0m\u001b[0m\n",
      "\u001b[0;32m~/opt/anaconda3/lib/python3.8/site-packages/pandas/core/internals/managers.py\u001b[0m in \u001b[0;36mastype\u001b[0;34m(self, dtype, copy, errors)\u001b[0m\n\u001b[1;32m    629\u001b[0m         \u001b[0mself\u001b[0m\u001b[0;34m,\u001b[0m \u001b[0mdtype\u001b[0m\u001b[0;34m,\u001b[0m \u001b[0mcopy\u001b[0m\u001b[0;34m:\u001b[0m \u001b[0mbool\u001b[0m \u001b[0;34m=\u001b[0m \u001b[0;32mFalse\u001b[0m\u001b[0;34m,\u001b[0m \u001b[0merrors\u001b[0m\u001b[0;34m:\u001b[0m \u001b[0mstr\u001b[0m \u001b[0;34m=\u001b[0m \u001b[0;34m\"raise\"\u001b[0m\u001b[0;34m\u001b[0m\u001b[0;34m\u001b[0m\u001b[0m\n\u001b[1;32m    630\u001b[0m     ) -> \"BlockManager\":\n\u001b[0;32m--> 631\u001b[0;31m         \u001b[0;32mreturn\u001b[0m \u001b[0mself\u001b[0m\u001b[0;34m.\u001b[0m\u001b[0mapply\u001b[0m\u001b[0;34m(\u001b[0m\u001b[0;34m\"astype\"\u001b[0m\u001b[0;34m,\u001b[0m \u001b[0mdtype\u001b[0m\u001b[0;34m=\u001b[0m\u001b[0mdtype\u001b[0m\u001b[0;34m,\u001b[0m \u001b[0mcopy\u001b[0m\u001b[0;34m=\u001b[0m\u001b[0mcopy\u001b[0m\u001b[0;34m,\u001b[0m \u001b[0merrors\u001b[0m\u001b[0;34m=\u001b[0m\u001b[0merrors\u001b[0m\u001b[0;34m)\u001b[0m\u001b[0;34m\u001b[0m\u001b[0;34m\u001b[0m\u001b[0m\n\u001b[0m\u001b[1;32m    632\u001b[0m \u001b[0;34m\u001b[0m\u001b[0m\n\u001b[1;32m    633\u001b[0m     def convert(\n",
      "\u001b[0;32m~/opt/anaconda3/lib/python3.8/site-packages/pandas/core/internals/managers.py\u001b[0m in \u001b[0;36mapply\u001b[0;34m(self, f, align_keys, ignore_failures, **kwargs)\u001b[0m\n\u001b[1;32m    425\u001b[0m                     \u001b[0mapplied\u001b[0m \u001b[0;34m=\u001b[0m \u001b[0mb\u001b[0m\u001b[0;34m.\u001b[0m\u001b[0mapply\u001b[0m\u001b[0;34m(\u001b[0m\u001b[0mf\u001b[0m\u001b[0;34m,\u001b[0m \u001b[0;34m**\u001b[0m\u001b[0mkwargs\u001b[0m\u001b[0;34m)\u001b[0m\u001b[0;34m\u001b[0m\u001b[0;34m\u001b[0m\u001b[0m\n\u001b[1;32m    426\u001b[0m                 \u001b[0;32melse\u001b[0m\u001b[0;34m:\u001b[0m\u001b[0;34m\u001b[0m\u001b[0;34m\u001b[0m\u001b[0m\n\u001b[0;32m--> 427\u001b[0;31m                     \u001b[0mapplied\u001b[0m \u001b[0;34m=\u001b[0m \u001b[0mgetattr\u001b[0m\u001b[0;34m(\u001b[0m\u001b[0mb\u001b[0m\u001b[0;34m,\u001b[0m \u001b[0mf\u001b[0m\u001b[0;34m)\u001b[0m\u001b[0;34m(\u001b[0m\u001b[0;34m**\u001b[0m\u001b[0mkwargs\u001b[0m\u001b[0;34m)\u001b[0m\u001b[0;34m\u001b[0m\u001b[0;34m\u001b[0m\u001b[0m\n\u001b[0m\u001b[1;32m    428\u001b[0m             \u001b[0;32mexcept\u001b[0m \u001b[0;34m(\u001b[0m\u001b[0mTypeError\u001b[0m\u001b[0;34m,\u001b[0m \u001b[0mNotImplementedError\u001b[0m\u001b[0;34m)\u001b[0m\u001b[0;34m:\u001b[0m\u001b[0;34m\u001b[0m\u001b[0;34m\u001b[0m\u001b[0m\n\u001b[1;32m    429\u001b[0m                 \u001b[0;32mif\u001b[0m \u001b[0;32mnot\u001b[0m \u001b[0mignore_failures\u001b[0m\u001b[0;34m:\u001b[0m\u001b[0;34m\u001b[0m\u001b[0;34m\u001b[0m\u001b[0m\n",
      "\u001b[0;32m~/opt/anaconda3/lib/python3.8/site-packages/pandas/core/internals/blocks.py\u001b[0m in \u001b[0;36mastype\u001b[0;34m(self, dtype, copy, errors)\u001b[0m\n\u001b[1;32m    671\u001b[0m             \u001b[0mvals1d\u001b[0m \u001b[0;34m=\u001b[0m \u001b[0mvalues\u001b[0m\u001b[0;34m.\u001b[0m\u001b[0mravel\u001b[0m\u001b[0;34m(\u001b[0m\u001b[0;34m)\u001b[0m\u001b[0;34m\u001b[0m\u001b[0;34m\u001b[0m\u001b[0m\n\u001b[1;32m    672\u001b[0m             \u001b[0;32mtry\u001b[0m\u001b[0;34m:\u001b[0m\u001b[0;34m\u001b[0m\u001b[0;34m\u001b[0m\u001b[0m\n\u001b[0;32m--> 673\u001b[0;31m                 \u001b[0mvalues\u001b[0m \u001b[0;34m=\u001b[0m \u001b[0mastype_nansafe\u001b[0m\u001b[0;34m(\u001b[0m\u001b[0mvals1d\u001b[0m\u001b[0;34m,\u001b[0m \u001b[0mdtype\u001b[0m\u001b[0;34m,\u001b[0m \u001b[0mcopy\u001b[0m\u001b[0;34m=\u001b[0m\u001b[0;32mTrue\u001b[0m\u001b[0;34m)\u001b[0m\u001b[0;34m\u001b[0m\u001b[0;34m\u001b[0m\u001b[0m\n\u001b[0m\u001b[1;32m    674\u001b[0m             \u001b[0;32mexcept\u001b[0m \u001b[0;34m(\u001b[0m\u001b[0mValueError\u001b[0m\u001b[0;34m,\u001b[0m \u001b[0mTypeError\u001b[0m\u001b[0;34m)\u001b[0m\u001b[0;34m:\u001b[0m\u001b[0;34m\u001b[0m\u001b[0;34m\u001b[0m\u001b[0m\n\u001b[1;32m    675\u001b[0m                 \u001b[0;31m# e.g. astype_nansafe can fail on object-dtype of strings\u001b[0m\u001b[0;34m\u001b[0m\u001b[0;34m\u001b[0m\u001b[0;34m\u001b[0m\u001b[0m\n",
      "\u001b[0;32m~/opt/anaconda3/lib/python3.8/site-packages/pandas/core/dtypes/cast.py\u001b[0m in \u001b[0;36mastype_nansafe\u001b[0;34m(arr, dtype, copy, skipna)\u001b[0m\n\u001b[1;32m   1072\u001b[0m         \u001b[0;31m# work around NumPy brokenness, #1987\u001b[0m\u001b[0;34m\u001b[0m\u001b[0;34m\u001b[0m\u001b[0;34m\u001b[0m\u001b[0m\n\u001b[1;32m   1073\u001b[0m         \u001b[0;32mif\u001b[0m \u001b[0mnp\u001b[0m\u001b[0;34m.\u001b[0m\u001b[0missubdtype\u001b[0m\u001b[0;34m(\u001b[0m\u001b[0mdtype\u001b[0m\u001b[0;34m.\u001b[0m\u001b[0mtype\u001b[0m\u001b[0;34m,\u001b[0m \u001b[0mnp\u001b[0m\u001b[0;34m.\u001b[0m\u001b[0minteger\u001b[0m\u001b[0;34m)\u001b[0m\u001b[0;34m:\u001b[0m\u001b[0;34m\u001b[0m\u001b[0;34m\u001b[0m\u001b[0m\n\u001b[0;32m-> 1074\u001b[0;31m             \u001b[0;32mreturn\u001b[0m \u001b[0mlib\u001b[0m\u001b[0;34m.\u001b[0m\u001b[0mastype_intsafe\u001b[0m\u001b[0;34m(\u001b[0m\u001b[0marr\u001b[0m\u001b[0;34m.\u001b[0m\u001b[0mravel\u001b[0m\u001b[0;34m(\u001b[0m\u001b[0;34m)\u001b[0m\u001b[0;34m,\u001b[0m \u001b[0mdtype\u001b[0m\u001b[0;34m)\u001b[0m\u001b[0;34m.\u001b[0m\u001b[0mreshape\u001b[0m\u001b[0;34m(\u001b[0m\u001b[0marr\u001b[0m\u001b[0;34m.\u001b[0m\u001b[0mshape\u001b[0m\u001b[0;34m)\u001b[0m\u001b[0;34m\u001b[0m\u001b[0;34m\u001b[0m\u001b[0m\n\u001b[0m\u001b[1;32m   1075\u001b[0m \u001b[0;34m\u001b[0m\u001b[0m\n\u001b[1;32m   1076\u001b[0m         \u001b[0;31m# if we have a datetime/timedelta array of objects\u001b[0m\u001b[0;34m\u001b[0m\u001b[0;34m\u001b[0m\u001b[0;34m\u001b[0m\u001b[0m\n",
      "\u001b[0;32mpandas/_libs/lib.pyx\u001b[0m in \u001b[0;36mpandas._libs.lib.astype_intsafe\u001b[0;34m()\u001b[0m\n",
      "\u001b[0;31mValueError\u001b[0m: invalid literal for int() with base 10: 'Order Date'"
     ]
    }
   ],
   "source": [
    "all_data['month']=all_data['month'].astype(int)"
   ]
  },
  {
   "cell_type": "code",
   "execution_count": 26,
   "id": "f180cb9f",
   "metadata": {},
   "outputs": [
    {
     "data": {
      "text/plain": [
       "array(['12', 'Order Date', '01', '04', '05', '02', '03', '08', '09', '06',\n",
       "       '11', '10', '07'], dtype=object)"
      ]
     },
     "execution_count": 26,
     "metadata": {},
     "output_type": "execute_result"
    }
   ],
   "source": [
    "# now I am going to check what are my unique valus in month,\n",
    "# so we can see clearly the 'Order Date' which does'nt converted into int.That's why we have value-error over here,\n",
    "\n",
    "all_data['month'].unique()"
   ]
  },
  {
   "cell_type": "code",
   "execution_count": 27,
   "id": "99494cb8",
   "metadata": {},
   "outputs": [],
   "source": [
    "# so now I am going to define my filter,in this filter I am going to say I don't want this 'Order Date',\n",
    "# I write month==Order Date and then I will apply the NEGATION of the data-frame,so we will apply negation(~)operator \n",
    "# before my filter,"
   ]
  },
  {
   "cell_type": "code",
   "execution_count": 28,
   "id": "5a4a565b",
   "metadata": {},
   "outputs": [
    {
     "data": {
      "text/html": [
       "<div>\n",
       "<style scoped>\n",
       "    .dataframe tbody tr th:only-of-type {\n",
       "        vertical-align: middle;\n",
       "    }\n",
       "\n",
       "    .dataframe tbody tr th {\n",
       "        vertical-align: top;\n",
       "    }\n",
       "\n",
       "    .dataframe thead th {\n",
       "        text-align: right;\n",
       "    }\n",
       "</style>\n",
       "<table border=\"1\" class=\"dataframe\">\n",
       "  <thead>\n",
       "    <tr style=\"text-align: right;\">\n",
       "      <th></th>\n",
       "      <th>Order ID</th>\n",
       "      <th>Product</th>\n",
       "      <th>Quantity Ordered</th>\n",
       "      <th>Price Each</th>\n",
       "      <th>Order Date</th>\n",
       "      <th>Purchase Address</th>\n",
       "      <th>Unnamed: 0</th>\n",
       "      <th>month</th>\n",
       "    </tr>\n",
       "  </thead>\n",
       "  <tbody>\n",
       "    <tr>\n",
       "      <th>0</th>\n",
       "      <td>295665</td>\n",
       "      <td>Macbook Pro Laptop</td>\n",
       "      <td>1</td>\n",
       "      <td>1700</td>\n",
       "      <td>12/30/19 00:01</td>\n",
       "      <td>136 Church St, New York City, NY 10001</td>\n",
       "      <td>NaN</td>\n",
       "      <td>12</td>\n",
       "    </tr>\n",
       "    <tr>\n",
       "      <th>1</th>\n",
       "      <td>295666</td>\n",
       "      <td>LG Washing Machine</td>\n",
       "      <td>1</td>\n",
       "      <td>600.0</td>\n",
       "      <td>12/29/19 07:03</td>\n",
       "      <td>562 2nd St, New York City, NY 10001</td>\n",
       "      <td>NaN</td>\n",
       "      <td>12</td>\n",
       "    </tr>\n",
       "    <tr>\n",
       "      <th>2</th>\n",
       "      <td>295667</td>\n",
       "      <td>USB-C Charging Cable</td>\n",
       "      <td>1</td>\n",
       "      <td>11.95</td>\n",
       "      <td>12/12/19 18:21</td>\n",
       "      <td>277 Main St, New York City, NY 10001</td>\n",
       "      <td>NaN</td>\n",
       "      <td>12</td>\n",
       "    </tr>\n",
       "    <tr>\n",
       "      <th>3</th>\n",
       "      <td>295668</td>\n",
       "      <td>27in FHD Monitor</td>\n",
       "      <td>1</td>\n",
       "      <td>149.99</td>\n",
       "      <td>12/22/19 15:13</td>\n",
       "      <td>410 6th St, San Francisco, CA 94016</td>\n",
       "      <td>NaN</td>\n",
       "      <td>12</td>\n",
       "    </tr>\n",
       "    <tr>\n",
       "      <th>4</th>\n",
       "      <td>295669</td>\n",
       "      <td>USB-C Charging Cable</td>\n",
       "      <td>1</td>\n",
       "      <td>11.95</td>\n",
       "      <td>12/18/19 12:38</td>\n",
       "      <td>43 Hill St, Atlanta, GA 30301</td>\n",
       "      <td>NaN</td>\n",
       "      <td>12</td>\n",
       "    </tr>\n",
       "  </tbody>\n",
       "</table>\n",
       "</div>"
      ],
      "text/plain": [
       "  Order ID               Product Quantity Ordered Price Each      Order Date  \\\n",
       "0   295665    Macbook Pro Laptop                1       1700  12/30/19 00:01   \n",
       "1   295666    LG Washing Machine                1      600.0  12/29/19 07:03   \n",
       "2   295667  USB-C Charging Cable                1      11.95  12/12/19 18:21   \n",
       "3   295668      27in FHD Monitor                1     149.99  12/22/19 15:13   \n",
       "4   295669  USB-C Charging Cable                1      11.95  12/18/19 12:38   \n",
       "\n",
       "                         Purchase Address Unnamed: 0 month  \n",
       "0  136 Church St, New York City, NY 10001        NaN    12  \n",
       "1     562 2nd St, New York City, NY 10001        NaN    12  \n",
       "2    277 Main St, New York City, NY 10001        NaN    12  \n",
       "3     410 6th St, San Francisco, CA 94016        NaN    12  \n",
       "4           43 Hill St, Atlanta, GA 30301        NaN    12  "
      ]
     },
     "execution_count": 28,
     "metadata": {},
     "output_type": "execute_result"
    }
   ],
   "source": [
    "filter=all_data['month']=='Order Date'\n",
    "all_data=all_data[~filter]\n",
    "all_data.head()"
   ]
  },
  {
   "cell_type": "code",
   "execution_count": 29,
   "id": "dd6dea27",
   "metadata": {},
   "outputs": [],
   "source": [
    "# now I am going to copy my data-type code statement and check\n",
    "all_data['month']=all_data['month'].astype(int)"
   ]
  },
  {
   "cell_type": "code",
   "execution_count": 30,
   "id": "77c5bc4f",
   "metadata": {},
   "outputs": [
    {
     "data": {
      "text/plain": [
       "Order ID            object\n",
       "Product             object\n",
       "Quantity Ordered    object\n",
       "Price Each          object\n",
       "Order Date          object\n",
       "Purchase Address    object\n",
       "Unnamed: 0          object\n",
       "month                int64\n",
       "dtype: object"
      ]
     },
     "execution_count": 30,
     "metadata": {},
     "output_type": "execute_result"
    }
   ],
   "source": [
    "all_data.dtypes"
   ]
  },
  {
   "cell_type": "code",
   "execution_count": 31,
   "id": "cca94196",
   "metadata": {},
   "outputs": [],
   "source": [
    "# so next I am going to deal with the quantity oreder column,and then I am going to convert the price each into \n",
    "# float as I have some decimal values .How I will change data-type, I will have to call astype\n",
    "# function and pass the desired finction,"
   ]
  },
  {
   "cell_type": "code",
   "execution_count": 32,
   "id": "7c676808",
   "metadata": {},
   "outputs": [],
   "source": [
    "all_data['Quantity Ordered']=all_data['Quantity Ordered'].astype(int)\n",
    "all_data['Price Each']=all_data['Price Each'].astype(float)"
   ]
  },
  {
   "cell_type": "code",
   "execution_count": 33,
   "id": "55f552c2",
   "metadata": {},
   "outputs": [
    {
     "data": {
      "text/plain": [
       "Order ID             object\n",
       "Product              object\n",
       "Quantity Ordered      int64\n",
       "Price Each          float64\n",
       "Order Date           object\n",
       "Purchase Address     object\n",
       "Unnamed: 0           object\n",
       "month                 int64\n",
       "dtype: object"
      ]
     },
     "execution_count": 33,
     "metadata": {},
     "output_type": "execute_result"
    }
   ],
   "source": [
    "# now I am going to check my data type, Now we can see we have changed our data-types.\n",
    "# now I will have to add my sales column over here.for that I need to select, Quantity Ordered*'Price Each'column,\n",
    "all_data.dtypes"
   ]
  },
  {
   "cell_type": "code",
   "execution_count": 34,
   "id": "f561bd8e",
   "metadata": {},
   "outputs": [],
   "source": [
    "# so once I performed my multiplication I will define a new column as sales,\n",
    "all_data['sales']=all_data['Quantity Ordered']*all_data['Price Each']"
   ]
  },
  {
   "cell_type": "code",
   "execution_count": 35,
   "id": "96d30a17",
   "metadata": {},
   "outputs": [
    {
     "data": {
      "text/html": [
       "<div>\n",
       "<style scoped>\n",
       "    .dataframe tbody tr th:only-of-type {\n",
       "        vertical-align: middle;\n",
       "    }\n",
       "\n",
       "    .dataframe tbody tr th {\n",
       "        vertical-align: top;\n",
       "    }\n",
       "\n",
       "    .dataframe thead th {\n",
       "        text-align: right;\n",
       "    }\n",
       "</style>\n",
       "<table border=\"1\" class=\"dataframe\">\n",
       "  <thead>\n",
       "    <tr style=\"text-align: right;\">\n",
       "      <th></th>\n",
       "      <th>Order ID</th>\n",
       "      <th>Product</th>\n",
       "      <th>Quantity Ordered</th>\n",
       "      <th>Price Each</th>\n",
       "      <th>Order Date</th>\n",
       "      <th>Purchase Address</th>\n",
       "      <th>Unnamed: 0</th>\n",
       "      <th>month</th>\n",
       "      <th>sales</th>\n",
       "    </tr>\n",
       "  </thead>\n",
       "  <tbody>\n",
       "    <tr>\n",
       "      <th>0</th>\n",
       "      <td>295665</td>\n",
       "      <td>Macbook Pro Laptop</td>\n",
       "      <td>1</td>\n",
       "      <td>1700.00</td>\n",
       "      <td>12/30/19 00:01</td>\n",
       "      <td>136 Church St, New York City, NY 10001</td>\n",
       "      <td>NaN</td>\n",
       "      <td>12</td>\n",
       "      <td>1700.00</td>\n",
       "    </tr>\n",
       "    <tr>\n",
       "      <th>1</th>\n",
       "      <td>295666</td>\n",
       "      <td>LG Washing Machine</td>\n",
       "      <td>1</td>\n",
       "      <td>600.00</td>\n",
       "      <td>12/29/19 07:03</td>\n",
       "      <td>562 2nd St, New York City, NY 10001</td>\n",
       "      <td>NaN</td>\n",
       "      <td>12</td>\n",
       "      <td>600.00</td>\n",
       "    </tr>\n",
       "    <tr>\n",
       "      <th>2</th>\n",
       "      <td>295667</td>\n",
       "      <td>USB-C Charging Cable</td>\n",
       "      <td>1</td>\n",
       "      <td>11.95</td>\n",
       "      <td>12/12/19 18:21</td>\n",
       "      <td>277 Main St, New York City, NY 10001</td>\n",
       "      <td>NaN</td>\n",
       "      <td>12</td>\n",
       "      <td>11.95</td>\n",
       "    </tr>\n",
       "    <tr>\n",
       "      <th>3</th>\n",
       "      <td>295668</td>\n",
       "      <td>27in FHD Monitor</td>\n",
       "      <td>1</td>\n",
       "      <td>149.99</td>\n",
       "      <td>12/22/19 15:13</td>\n",
       "      <td>410 6th St, San Francisco, CA 94016</td>\n",
       "      <td>NaN</td>\n",
       "      <td>12</td>\n",
       "      <td>149.99</td>\n",
       "    </tr>\n",
       "    <tr>\n",
       "      <th>4</th>\n",
       "      <td>295669</td>\n",
       "      <td>USB-C Charging Cable</td>\n",
       "      <td>1</td>\n",
       "      <td>11.95</td>\n",
       "      <td>12/18/19 12:38</td>\n",
       "      <td>43 Hill St, Atlanta, GA 30301</td>\n",
       "      <td>NaN</td>\n",
       "      <td>12</td>\n",
       "      <td>11.95</td>\n",
       "    </tr>\n",
       "  </tbody>\n",
       "</table>\n",
       "</div>"
      ],
      "text/plain": [
       "  Order ID               Product  Quantity Ordered  Price Each  \\\n",
       "0   295665    Macbook Pro Laptop                 1     1700.00   \n",
       "1   295666    LG Washing Machine                 1      600.00   \n",
       "2   295667  USB-C Charging Cable                 1       11.95   \n",
       "3   295668      27in FHD Monitor                 1      149.99   \n",
       "4   295669  USB-C Charging Cable                 1       11.95   \n",
       "\n",
       "       Order Date                        Purchase Address Unnamed: 0  month  \\\n",
       "0  12/30/19 00:01  136 Church St, New York City, NY 10001        NaN     12   \n",
       "1  12/29/19 07:03     562 2nd St, New York City, NY 10001        NaN     12   \n",
       "2  12/12/19 18:21    277 Main St, New York City, NY 10001        NaN     12   \n",
       "3  12/22/19 15:13     410 6th St, San Francisco, CA 94016        NaN     12   \n",
       "4  12/18/19 12:38           43 Hill St, Atlanta, GA 30301        NaN     12   \n",
       "\n",
       "     sales  \n",
       "0  1700.00  \n",
       "1   600.00  \n",
       "2    11.95  \n",
       "3   149.99  \n",
       "4    11.95  "
      ]
     },
     "execution_count": 35,
     "metadata": {},
     "output_type": "execute_result"
    }
   ],
   "source": [
    "# now we will see our updated data, so we can see the sales column get added over here.\n",
    "# so now my data is ready and I am going to perform some analysis with this for use case.\n",
    "all_data.head()"
   ]
  },
  {
   "cell_type": "code",
   "execution_count": 36,
   "id": "90f79e3d",
   "metadata": {},
   "outputs": [
    {
     "data": {
      "text/plain": [
       "month\n",
       "1     7.289027e+06\n",
       "2     8.808090e+06\n",
       "3     1.122840e+07\n",
       "4     1.356268e+07\n",
       "5     1.261043e+07\n",
       "6     1.031121e+07\n",
       "7     1.059110e+07\n",
       "8     8.977872e+06\n",
       "9     1.677209e+07\n",
       "10    1.496032e+07\n",
       "11    1.279841e+07\n",
       "12    1.845377e+07\n",
       "Name: sales, dtype: float64"
      ]
     },
     "execution_count": 36,
     "metadata": {},
     "output_type": "execute_result"
    }
   ],
   "source": [
    "# Now I have to check what is the best month for the sale, so I have to groupby on month for each and every month\n",
    "# then I have to access the sales column over here see the result , check one by one\n",
    "all_data.groupby('month')['sales'].sum()"
   ]
  },
  {
   "cell_type": "code",
   "execution_count": 37,
   "id": "e8c4dfcc",
   "metadata": {},
   "outputs": [],
   "source": [
    "# as I have to check what is my best month, for that I am going to visualise the data,for that I take range(1,13)\n",
    "# here 13 is excluded, so in my bar-graph, x-axis I have month and Y-axis I have all the other data.\n",
    "# xtick is used for tick the items\n",
    "#so from this visualization we can see in the December we have maximum sale,so that's \n",
    "# the conclusion we can draw from the visualization."
   ]
  },
  {
   "cell_type": "code",
   "execution_count": 38,
   "id": "bc56f78d",
   "metadata": {},
   "outputs": [
    {
     "data": {
      "text/plain": [
       "Text(0, 0.5, 'Sales in USD')"
      ]
     },
     "execution_count": 38,
     "metadata": {},
     "output_type": "execute_result"
    },
    {
     "data": {
      "image/png": "[encoded data removed]",
      "text/plain": [
       "<Figure size 432x288 with 1 Axes>"
      ]
     },
     "metadata": {
      "needs_background": "light"
     },
     "output_type": "display_data"
    }
   ],
   "source": [
    "months=range(1,13)\n",
    "plt.bar(months,all_data.groupby('month')['sales'].sum())\n",
    "plt.xticks(months)\n",
    "plt.xlabel('month')\n",
    "plt.ylabel('Sales in USD')"
   ]
  },
  {
   "cell_type": "code",
   "execution_count": 39,
   "id": "25419eec",
   "metadata": {},
   "outputs": [],
   "source": [
    "# in this question we perform various data clraning and we do visualisation for the higest sale of the month."
   ]
  },
  {
   "cell_type": "markdown",
   "id": "42c2d7ab",
   "metadata": {},
   "source": [
    "3.WHICH CITY HAS MAXIMU ORDER?\n"
   ]
  },
  {
   "cell_type": "code",
   "execution_count": 40,
   "id": "6232080e",
   "metadata": {},
   "outputs": [
    {
     "data": {
      "text/html": [
       "<div>\n",
       "<style scoped>\n",
       "    .dataframe tbody tr th:only-of-type {\n",
       "        vertical-align: middle;\n",
       "    }\n",
       "\n",
       "    .dataframe tbody tr th {\n",
       "        vertical-align: top;\n",
       "    }\n",
       "\n",
       "    .dataframe thead th {\n",
       "        text-align: right;\n",
       "    }\n",
       "</style>\n",
       "<table border=\"1\" class=\"dataframe\">\n",
       "  <thead>\n",
       "    <tr style=\"text-align: right;\">\n",
       "      <th></th>\n",
       "      <th>Order ID</th>\n",
       "      <th>Product</th>\n",
       "      <th>Quantity Ordered</th>\n",
       "      <th>Price Each</th>\n",
       "      <th>Order Date</th>\n",
       "      <th>Purchase Address</th>\n",
       "      <th>Unnamed: 0</th>\n",
       "      <th>month</th>\n",
       "      <th>sales</th>\n",
       "    </tr>\n",
       "  </thead>\n",
       "  <tbody>\n",
       "    <tr>\n",
       "      <th>0</th>\n",
       "      <td>295665</td>\n",
       "      <td>Macbook Pro Laptop</td>\n",
       "      <td>1</td>\n",
       "      <td>1700.00</td>\n",
       "      <td>12/30/19 00:01</td>\n",
       "      <td>136 Church St, New York City, NY 10001</td>\n",
       "      <td>NaN</td>\n",
       "      <td>12</td>\n",
       "      <td>1700.00</td>\n",
       "    </tr>\n",
       "    <tr>\n",
       "      <th>1</th>\n",
       "      <td>295666</td>\n",
       "      <td>LG Washing Machine</td>\n",
       "      <td>1</td>\n",
       "      <td>600.00</td>\n",
       "      <td>12/29/19 07:03</td>\n",
       "      <td>562 2nd St, New York City, NY 10001</td>\n",
       "      <td>NaN</td>\n",
       "      <td>12</td>\n",
       "      <td>600.00</td>\n",
       "    </tr>\n",
       "    <tr>\n",
       "      <th>2</th>\n",
       "      <td>295667</td>\n",
       "      <td>USB-C Charging Cable</td>\n",
       "      <td>1</td>\n",
       "      <td>11.95</td>\n",
       "      <td>12/12/19 18:21</td>\n",
       "      <td>277 Main St, New York City, NY 10001</td>\n",
       "      <td>NaN</td>\n",
       "      <td>12</td>\n",
       "      <td>11.95</td>\n",
       "    </tr>\n",
       "    <tr>\n",
       "      <th>3</th>\n",
       "      <td>295668</td>\n",
       "      <td>27in FHD Monitor</td>\n",
       "      <td>1</td>\n",
       "      <td>149.99</td>\n",
       "      <td>12/22/19 15:13</td>\n",
       "      <td>410 6th St, San Francisco, CA 94016</td>\n",
       "      <td>NaN</td>\n",
       "      <td>12</td>\n",
       "      <td>149.99</td>\n",
       "    </tr>\n",
       "    <tr>\n",
       "      <th>4</th>\n",
       "      <td>295669</td>\n",
       "      <td>USB-C Charging Cable</td>\n",
       "      <td>1</td>\n",
       "      <td>11.95</td>\n",
       "      <td>12/18/19 12:38</td>\n",
       "      <td>43 Hill St, Atlanta, GA 30301</td>\n",
       "      <td>NaN</td>\n",
       "      <td>12</td>\n",
       "      <td>11.95</td>\n",
       "    </tr>\n",
       "  </tbody>\n",
       "</table>\n",
       "</div>"
      ],
      "text/plain": [
       "  Order ID               Product  Quantity Ordered  Price Each  \\\n",
       "0   295665    Macbook Pro Laptop                 1     1700.00   \n",
       "1   295666    LG Washing Machine                 1      600.00   \n",
       "2   295667  USB-C Charging Cable                 1       11.95   \n",
       "3   295668      27in FHD Monitor                 1      149.99   \n",
       "4   295669  USB-C Charging Cable                 1       11.95   \n",
       "\n",
       "       Order Date                        Purchase Address Unnamed: 0  month  \\\n",
       "0  12/30/19 00:01  136 Church St, New York City, NY 10001        NaN     12   \n",
       "1  12/29/19 07:03     562 2nd St, New York City, NY 10001        NaN     12   \n",
       "2  12/12/19 18:21    277 Main St, New York City, NY 10001        NaN     12   \n",
       "3  12/22/19 15:13     410 6th St, San Francisco, CA 94016        NaN     12   \n",
       "4  12/18/19 12:38           43 Hill St, Atlanta, GA 30301        NaN     12   \n",
       "\n",
       "     sales  \n",
       "0  1700.00  \n",
       "1   600.00  \n",
       "2    11.95  \n",
       "3   149.99  \n",
       "4    11.95  "
      ]
     },
     "execution_count": 40,
     "metadata": {},
     "output_type": "execute_result"
    }
   ],
   "source": [
    "# we can see from the data, that we do not have, any separate column like city, but we do have purchase address\n",
    "# which contain city, so it means we have to fetch city from these purchase address, and we have to add another\n",
    "# column name as city.\n",
    "all_data.head()"
   ]
  },
  {
   "cell_type": "code",
   "execution_count": 41,
   "id": "c4cc9334",
   "metadata": {},
   "outputs": [],
   "source": [
    "# I will just paste the given address, and then I am going to call the solit function, and now I am going to split it\n",
    "# using comma,as we can observe from our adress section that to access our city name we will have to use index 1,"
   ]
  },
  {
   "cell_type": "code",
   "execution_count": 42,
   "id": "13c9fbfc",
   "metadata": {},
   "outputs": [
    {
     "data": {
      "text/plain": [
       "' New York City'"
      ]
     },
     "execution_count": 42,
     "metadata": {},
     "output_type": "execute_result"
    }
   ],
   "source": [
    "'136 Church St, New York City, NY 10001'.split(',')[1]"
   ]
  },
  {
   "cell_type": "code",
   "execution_count": 43,
   "id": "15ba4f18",
   "metadata": {},
   "outputs": [],
   "source": [
    "# so now I am going to define my function as city,and then I have to pass the argument as Purchase Address,and I will\n",
    "# return the city name.\n",
    "def city(x):\n",
    "    return x.split(',')[1]"
   ]
  },
  {
   "cell_type": "code",
   "execution_count": 44,
   "id": "426de3d4",
   "metadata": {},
   "outputs": [],
   "source": [
    "# now i have to apply the feature Purchase Address, and will create a column city, where I will update my city.\n",
    "all_data['city']=all_data['Purchase Address'].apply(city)\n"
   ]
  },
  {
   "cell_type": "code",
   "execution_count": 45,
   "id": "9b7a5652",
   "metadata": {},
   "outputs": [
    {
     "data": {
      "text/html": [
       "<div>\n",
       "<style scoped>\n",
       "    .dataframe tbody tr th:only-of-type {\n",
       "        vertical-align: middle;\n",
       "    }\n",
       "\n",
       "    .dataframe tbody tr th {\n",
       "        vertical-align: top;\n",
       "    }\n",
       "\n",
       "    .dataframe thead th {\n",
       "        text-align: right;\n",
       "    }\n",
       "</style>\n",
       "<table border=\"1\" class=\"dataframe\">\n",
       "  <thead>\n",
       "    <tr style=\"text-align: right;\">\n",
       "      <th></th>\n",
       "      <th>Order ID</th>\n",
       "      <th>Product</th>\n",
       "      <th>Quantity Ordered</th>\n",
       "      <th>Price Each</th>\n",
       "      <th>Order Date</th>\n",
       "      <th>Purchase Address</th>\n",
       "      <th>Unnamed: 0</th>\n",
       "      <th>month</th>\n",
       "      <th>sales</th>\n",
       "      <th>city</th>\n",
       "    </tr>\n",
       "  </thead>\n",
       "  <tbody>\n",
       "    <tr>\n",
       "      <th>0</th>\n",
       "      <td>295665</td>\n",
       "      <td>Macbook Pro Laptop</td>\n",
       "      <td>1</td>\n",
       "      <td>1700.00</td>\n",
       "      <td>12/30/19 00:01</td>\n",
       "      <td>136 Church St, New York City, NY 10001</td>\n",
       "      <td>NaN</td>\n",
       "      <td>12</td>\n",
       "      <td>1700.00</td>\n",
       "      <td>New York City</td>\n",
       "    </tr>\n",
       "    <tr>\n",
       "      <th>1</th>\n",
       "      <td>295666</td>\n",
       "      <td>LG Washing Machine</td>\n",
       "      <td>1</td>\n",
       "      <td>600.00</td>\n",
       "      <td>12/29/19 07:03</td>\n",
       "      <td>562 2nd St, New York City, NY 10001</td>\n",
       "      <td>NaN</td>\n",
       "      <td>12</td>\n",
       "      <td>600.00</td>\n",
       "      <td>New York City</td>\n",
       "    </tr>\n",
       "    <tr>\n",
       "      <th>2</th>\n",
       "      <td>295667</td>\n",
       "      <td>USB-C Charging Cable</td>\n",
       "      <td>1</td>\n",
       "      <td>11.95</td>\n",
       "      <td>12/12/19 18:21</td>\n",
       "      <td>277 Main St, New York City, NY 10001</td>\n",
       "      <td>NaN</td>\n",
       "      <td>12</td>\n",
       "      <td>11.95</td>\n",
       "      <td>New York City</td>\n",
       "    </tr>\n",
       "    <tr>\n",
       "      <th>3</th>\n",
       "      <td>295668</td>\n",
       "      <td>27in FHD Monitor</td>\n",
       "      <td>1</td>\n",
       "      <td>149.99</td>\n",
       "      <td>12/22/19 15:13</td>\n",
       "      <td>410 6th St, San Francisco, CA 94016</td>\n",
       "      <td>NaN</td>\n",
       "      <td>12</td>\n",
       "      <td>149.99</td>\n",
       "      <td>San Francisco</td>\n",
       "    </tr>\n",
       "    <tr>\n",
       "      <th>4</th>\n",
       "      <td>295669</td>\n",
       "      <td>USB-C Charging Cable</td>\n",
       "      <td>1</td>\n",
       "      <td>11.95</td>\n",
       "      <td>12/18/19 12:38</td>\n",
       "      <td>43 Hill St, Atlanta, GA 30301</td>\n",
       "      <td>NaN</td>\n",
       "      <td>12</td>\n",
       "      <td>11.95</td>\n",
       "      <td>Atlanta</td>\n",
       "    </tr>\n",
       "  </tbody>\n",
       "</table>\n",
       "</div>"
      ],
      "text/plain": [
       "  Order ID               Product  Quantity Ordered  Price Each  \\\n",
       "0   295665    Macbook Pro Laptop                 1     1700.00   \n",
       "1   295666    LG Washing Machine                 1      600.00   \n",
       "2   295667  USB-C Charging Cable                 1       11.95   \n",
       "3   295668      27in FHD Monitor                 1      149.99   \n",
       "4   295669  USB-C Charging Cable                 1       11.95   \n",
       "\n",
       "       Order Date                        Purchase Address Unnamed: 0  month  \\\n",
       "0  12/30/19 00:01  136 Church St, New York City, NY 10001        NaN     12   \n",
       "1  12/29/19 07:03     562 2nd St, New York City, NY 10001        NaN     12   \n",
       "2  12/12/19 18:21    277 Main St, New York City, NY 10001        NaN     12   \n",
       "3  12/22/19 15:13     410 6th St, San Francisco, CA 94016        NaN     12   \n",
       "4  12/18/19 12:38           43 Hill St, Atlanta, GA 30301        NaN     12   \n",
       "\n",
       "     sales            city  \n",
       "0  1700.00   New York City  \n",
       "1   600.00   New York City  \n",
       "2    11.95   New York City  \n",
       "3   149.99   San Francisco  \n",
       "4    11.95         Atlanta  "
      ]
     },
     "execution_count": 45,
     "metadata": {},
     "output_type": "execute_result"
    }
   ],
   "source": [
    "all_data.head()"
   ]
  },
  {
   "cell_type": "code",
   "execution_count": 46,
   "id": "256daa82",
   "metadata": {},
   "outputs": [],
   "source": [
    "# as we can see the city column has added to my data-frame., now we have to analyse which city has maximum order.\n",
    "# so for that we have to grop the data on the basis of 'city'let's say I am going to count the number of order for \n",
    "# each city.so I will perform count overthere."
   ]
  },
  {
   "cell_type": "code",
   "execution_count": 47,
   "id": "a42a9b7d",
   "metadata": {},
   "outputs": [
    {
     "data": {
      "text/plain": [
       "city\n",
       " Atlanta           63184\n",
       " Austin            42284\n",
       " Boston            84868\n",
       " Dallas            63020\n",
       " Los Angeles      125956\n",
       " New York City    105648\n",
       " Portland          52816\n",
       " San Francisco    189864\n",
       " Seattle           62676\n",
       "Name: city, dtype: int64"
      ]
     },
     "execution_count": 47,
     "metadata": {},
     "output_type": "execute_result"
    }
   ],
   "source": [
    "all_data.groupby('city')['city'].count()"
   ]
  },
  {
   "cell_type": "code",
   "execution_count": 48,
   "id": "c8b106f2",
   "metadata": {},
   "outputs": [],
   "source": [
    "# so Now I have to plot this data,for that I am going to use .plot bar here\n",
    "# so From this bar plot we can analyse that san-francisco has the maximum order.\n"
   ]
  },
  {
   "cell_type": "code",
   "execution_count": 49,
   "id": "92cb9432",
   "metadata": {},
   "outputs": [
    {
     "data": {
      "text/plain": [
       "<AxesSubplot:xlabel='city'>"
      ]
     },
     "execution_count": 49,
     "metadata": {},
     "output_type": "execute_result"
    },
    {
     "data": {
      "image/png": "[encoded data removed]",
      "text/plain": [
       "<Figure size 432x288 with 1 Axes>"
      ]
     },
     "metadata": {
      "needs_background": "light"
     },
     "output_type": "display_data"
    }
   ],
   "source": [
    "all_data.groupby('city')['city'].count().plot.bar()"
   ]
  },
  {
   "cell_type": "markdown",
   "id": "73bf0fb5",
   "metadata": {},
   "source": [
    "AT WHAT TIME SALES OF PRODUCT PURCHASE IS MAXIMUM?\n"
   ]
  },
  {
   "cell_type": "code",
   "execution_count": 50,
   "id": "20a00d7b",
   "metadata": {},
   "outputs": [],
   "source": [
    "# so If we see our data_table, we don't have any time column,but we have an order-date hour where our time is given,\n",
    "#which means we have to fetch this hour,so firstly, I am going to check what exjactly the data-type of this,\n",
    "# we can see that this is a string data type,but to perform split function, \n",
    "# I have to convert this into date-time format.,to convert the column to date_time, and then\n",
    "# I have to call the date_time method.and if I will call dt.hour it will return me hour.and then I am going to\n",
    "# update it in the hour column., as we can see our hour column has been added in out data frame,\n"
   ]
  },
  {
   "cell_type": "code",
   "execution_count": 51,
   "id": "b51b7df4",
   "metadata": {},
   "outputs": [
    {
     "data": {
      "text/plain": [
       "dtype('O')"
      ]
     },
     "execution_count": 51,
     "metadata": {},
     "output_type": "execute_result"
    }
   ],
   "source": [
    "all_data['Order Date'].dtype"
   ]
  },
  {
   "cell_type": "code",
   "execution_count": 52,
   "id": "16be82af",
   "metadata": {},
   "outputs": [],
   "source": [
    "all_data['Hour']=pd.to_datetime(all_data['Order Date']).dt.hour"
   ]
  },
  {
   "cell_type": "code",
   "execution_count": 53,
   "id": "83431f1a",
   "metadata": {},
   "outputs": [
    {
     "data": {
      "text/html": [
       "<div>\n",
       "<style scoped>\n",
       "    .dataframe tbody tr th:only-of-type {\n",
       "        vertical-align: middle;\n",
       "    }\n",
       "\n",
       "    .dataframe tbody tr th {\n",
       "        vertical-align: top;\n",
       "    }\n",
       "\n",
       "    .dataframe thead th {\n",
       "        text-align: right;\n",
       "    }\n",
       "</style>\n",
       "<table border=\"1\" class=\"dataframe\">\n",
       "  <thead>\n",
       "    <tr style=\"text-align: right;\">\n",
       "      <th></th>\n",
       "      <th>Order ID</th>\n",
       "      <th>Product</th>\n",
       "      <th>Quantity Ordered</th>\n",
       "      <th>Price Each</th>\n",
       "      <th>Order Date</th>\n",
       "      <th>Purchase Address</th>\n",
       "      <th>Unnamed: 0</th>\n",
       "      <th>month</th>\n",
       "      <th>sales</th>\n",
       "      <th>city</th>\n",
       "      <th>Hour</th>\n",
       "    </tr>\n",
       "  </thead>\n",
       "  <tbody>\n",
       "    <tr>\n",
       "      <th>0</th>\n",
       "      <td>295665</td>\n",
       "      <td>Macbook Pro Laptop</td>\n",
       "      <td>1</td>\n",
       "      <td>1700.00</td>\n",
       "      <td>12/30/19 00:01</td>\n",
       "      <td>136 Church St, New York City, NY 10001</td>\n",
       "      <td>NaN</td>\n",
       "      <td>12</td>\n",
       "      <td>1700.00</td>\n",
       "      <td>New York City</td>\n",
       "      <td>0</td>\n",
       "    </tr>\n",
       "    <tr>\n",
       "      <th>1</th>\n",
       "      <td>295666</td>\n",
       "      <td>LG Washing Machine</td>\n",
       "      <td>1</td>\n",
       "      <td>600.00</td>\n",
       "      <td>12/29/19 07:03</td>\n",
       "      <td>562 2nd St, New York City, NY 10001</td>\n",
       "      <td>NaN</td>\n",
       "      <td>12</td>\n",
       "      <td>600.00</td>\n",
       "      <td>New York City</td>\n",
       "      <td>7</td>\n",
       "    </tr>\n",
       "    <tr>\n",
       "      <th>2</th>\n",
       "      <td>295667</td>\n",
       "      <td>USB-C Charging Cable</td>\n",
       "      <td>1</td>\n",
       "      <td>11.95</td>\n",
       "      <td>12/12/19 18:21</td>\n",
       "      <td>277 Main St, New York City, NY 10001</td>\n",
       "      <td>NaN</td>\n",
       "      <td>12</td>\n",
       "      <td>11.95</td>\n",
       "      <td>New York City</td>\n",
       "      <td>18</td>\n",
       "    </tr>\n",
       "    <tr>\n",
       "      <th>3</th>\n",
       "      <td>295668</td>\n",
       "      <td>27in FHD Monitor</td>\n",
       "      <td>1</td>\n",
       "      <td>149.99</td>\n",
       "      <td>12/22/19 15:13</td>\n",
       "      <td>410 6th St, San Francisco, CA 94016</td>\n",
       "      <td>NaN</td>\n",
       "      <td>12</td>\n",
       "      <td>149.99</td>\n",
       "      <td>San Francisco</td>\n",
       "      <td>15</td>\n",
       "    </tr>\n",
       "    <tr>\n",
       "      <th>4</th>\n",
       "      <td>295669</td>\n",
       "      <td>USB-C Charging Cable</td>\n",
       "      <td>1</td>\n",
       "      <td>11.95</td>\n",
       "      <td>12/18/19 12:38</td>\n",
       "      <td>43 Hill St, Atlanta, GA 30301</td>\n",
       "      <td>NaN</td>\n",
       "      <td>12</td>\n",
       "      <td>11.95</td>\n",
       "      <td>Atlanta</td>\n",
       "      <td>12</td>\n",
       "    </tr>\n",
       "  </tbody>\n",
       "</table>\n",
       "</div>"
      ],
      "text/plain": [
       "  Order ID               Product  Quantity Ordered  Price Each  \\\n",
       "0   295665    Macbook Pro Laptop                 1     1700.00   \n",
       "1   295666    LG Washing Machine                 1      600.00   \n",
       "2   295667  USB-C Charging Cable                 1       11.95   \n",
       "3   295668      27in FHD Monitor                 1      149.99   \n",
       "4   295669  USB-C Charging Cable                 1       11.95   \n",
       "\n",
       "       Order Date                        Purchase Address Unnamed: 0  month  \\\n",
       "0  12/30/19 00:01  136 Church St, New York City, NY 10001        NaN     12   \n",
       "1  12/29/19 07:03     562 2nd St, New York City, NY 10001        NaN     12   \n",
       "2  12/12/19 18:21    277 Main St, New York City, NY 10001        NaN     12   \n",
       "3  12/22/19 15:13     410 6th St, San Francisco, CA 94016        NaN     12   \n",
       "4  12/18/19 12:38           43 Hill St, Atlanta, GA 30301        NaN     12   \n",
       "\n",
       "     sales            city  Hour  \n",
       "0  1700.00   New York City     0  \n",
       "1   600.00   New York City     7  \n",
       "2    11.95   New York City    18  \n",
       "3   149.99   San Francisco    15  \n",
       "4    11.95         Atlanta    12  "
      ]
     },
     "execution_count": 53,
     "metadata": {},
     "output_type": "execute_result"
    }
   ],
   "source": [
    "all_data.head()"
   ]
  },
  {
   "cell_type": "code",
   "execution_count": 54,
   "id": "2b2faf5b",
   "metadata": {},
   "outputs": [],
   "source": [
    "# now I am going to define two list over here, very first,I have to create a group by on this hour,and itearate over\n",
    "# my data-frame using for loop,and then I have to define some list over here,so my list are keys and hour,\n",
    "# so for each and every key I am going to append my hour,then I have print both my keys and hour list respectively."
   ]
  },
  {
   "cell_type": "code",
   "execution_count": 55,
   "id": "8ce9dc13",
   "metadata": {},
   "outputs": [],
   "source": [
    "keys =[]\n",
    "hour=[]\n",
    "for key,hour_df in all_data.groupby('Hour'):\n",
    "    keys.append(key)\n",
    "    hour.append(len(hour_df))"
   ]
  },
  {
   "cell_type": "code",
   "execution_count": 56,
   "id": "0be4947d",
   "metadata": {},
   "outputs": [
    {
     "data": {
      "text/plain": [
       "[0,\n",
       " 1,\n",
       " 2,\n",
       " 3,\n",
       " 4,\n",
       " 5,\n",
       " 6,\n",
       " 7,\n",
       " 8,\n",
       " 9,\n",
       " 10,\n",
       " 11,\n",
       " 12,\n",
       " 13,\n",
       " 14,\n",
       " 15,\n",
       " 16,\n",
       " 17,\n",
       " 18,\n",
       " 19,\n",
       " 20,\n",
       " 21,\n",
       " 22,\n",
       " 23]"
      ]
     },
     "execution_count": 56,
     "metadata": {},
     "output_type": "execute_result"
    }
   ],
   "source": [
    "keys"
   ]
  },
  {
   "cell_type": "code",
   "execution_count": 57,
   "id": "adb71fc7",
   "metadata": {},
   "outputs": [
    {
     "data": {
      "text/plain": [
       "[16680,\n",
       " 10056,\n",
       " 5284,\n",
       " 3544,\n",
       " 3572,\n",
       " 5640,\n",
       " 10504,\n",
       " 16912,\n",
       " 26524,\n",
       " 37244,\n",
       " 46296,\n",
       " 52688,\n",
       " 53448,\n",
       " 51572,\n",
       " 46864,\n",
       " 43132,\n",
       " 44024,\n",
       " 46536,\n",
       " 52100,\n",
       " 54792,\n",
       " 51800,\n",
       " 46692,\n",
       " 37632,\n",
       " 26780]"
      ]
     },
     "execution_count": 57,
     "metadata": {},
     "output_type": "execute_result"
    }
   ],
   "source": [
    "hour"
   ]
  },
  {
   "cell_type": "code",
   "execution_count": 58,
   "id": "a2b8b781",
   "metadata": {},
   "outputs": [
    {
     "data": {
      "text/plain": [
       "[<matplotlib.lines.Line2D at 0x7fb3b4d9b6a0>]"
      ]
     },
     "execution_count": 58,
     "metadata": {},
     "output_type": "execute_result"
    },
    {
     "data": {
      "image/png": "[encoded data removed]",
      "text/plain": [
       "<Figure size 432x288 with 1 Axes>"
      ]
     },
     "metadata": {
      "needs_background": "light"
     },
     "output_type": "display_data"
    }
   ],
   "source": [
    "# I am just here plotting my hour and key lists.I will also add the grid(the background box)\n",
    "plt.grid()\n",
    "plt.plot(keys,hour)"
   ]
  },
  {
   "cell_type": "code",
   "execution_count": 59,
   "id": "25e8f54b",
   "metadata": {},
   "outputs": [],
   "source": [
    "# so If we analyse the graph we can see, I can advertise my product in such interval,as I have peak after 10 and 12.\n",
    "# that type of conclusion we can draw from the visualisation."
   ]
  },
  {
   "cell_type": "markdown",
   "id": "2fed2ccf",
   "metadata": {},
   "source": [
    "WHAT PRODUCT SOLD THE MOST AND WHY?"
   ]
  },
  {
   "cell_type": "code",
   "execution_count": 60,
   "id": "4c444bba",
   "metadata": {},
   "outputs": [],
   "source": [
    "#Firstly, I need a groupby on product because I have to tell,because I have to tell what product sold the most,\n",
    "# Once I groupby product, then I have to access the Quantity Ordered column,Quantity Ordered for each value I have to\n",
    "# call a sum function over there,"
   ]
  },
  {
   "cell_type": "code",
   "execution_count": 61,
   "id": "a0c597d7",
   "metadata": {},
   "outputs": [
    {
     "data": {
      "text/plain": [
       "Product\n",
       "20in Monitor                   17624\n",
       "27in 4K Gaming Monitor         26504\n",
       "27in FHD Monitor               32128\n",
       "34in Ultrawide Monitor         26308\n",
       "AA Batteries (4-pack)         117632\n",
       "AAA Batteries (4-pack)        131776\n",
       "Apple Airpods Headphones       66516\n",
       "Bose SoundSport Headphones     57148\n",
       "Flatscreen TV                  20452\n",
       "Google Phone                   23496\n",
       "LG Dryer                        2704\n",
       "LG Washing Machine              2848\n",
       "Lightning Charging Cable       98600\n",
       "Macbook Pro Laptop             20064\n",
       "ThinkPad Laptop                17516\n",
       "USB-C Charging Cable          102276\n",
       "Vareebadd Phone                 8776\n",
       "Wired Headphones               87436\n",
       "iPhone                         28988\n",
       "Name: Quantity Ordered, dtype: int64"
      ]
     },
     "execution_count": 61,
     "metadata": {},
     "output_type": "execute_result"
    }
   ],
   "source": [
    "all_data.groupby('Product')['Quantity Ordered'].sum()"
   ]
  },
  {
   "cell_type": "code",
   "execution_count": 62,
   "id": "aada5bc4",
   "metadata": {},
   "outputs": [],
   "source": [
    "# Now we can see from the Output that which product has how much sale?,\n",
    "# let's say I have to visualise my data in bar,so I will call plot method."
   ]
  },
  {
   "cell_type": "code",
   "execution_count": 63,
   "id": "3647de27",
   "metadata": {},
   "outputs": [
    {
     "data": {
      "text/plain": [
       "<AxesSubplot:xlabel='Product'>"
      ]
     },
     "execution_count": 63,
     "metadata": {},
     "output_type": "execute_result"
    },
    {
     "data": {
      "image/png": "[encoded data removed]",
      "text/plain": [
       "<Figure size 432x288 with 1 Axes>"
      ]
     },
     "metadata": {
      "needs_background": "light"
     },
     "output_type": "display_data"
    }
   ],
   "source": [
    "all_data.groupby('Product')['Quantity Ordered'].sum().plot(kind='bar')"
   ]
  },
  {
   "cell_type": "code",
   "execution_count": 64,
   "id": "99a30a8f",
   "metadata": {},
   "outputs": [],
   "source": [
    "# we can see from output that the AAA bateries has maximum sale,and now we have to\n",
    "# anlyse why this product has maximum sail?so for that I am going to groupby my product and then I will access \n",
    "# the \"Price Each\"column\",and then I am going to check what is the mean price of each of the column.\n",
    "# we can check from below  price table, that AAA batery is the least price product, may be that'swhy, It is higest sold."
   ]
  },
  {
   "cell_type": "code",
   "execution_count": 65,
   "id": "a6d80494",
   "metadata": {},
   "outputs": [
    {
     "data": {
      "text/plain": [
       "Product\n",
       "20in Monitor                   109.99\n",
       "27in 4K Gaming Monitor         389.99\n",
       "27in FHD Monitor               149.99\n",
       "34in Ultrawide Monitor         379.99\n",
       "AA Batteries (4-pack)            3.84\n",
       "AAA Batteries (4-pack)           2.99\n",
       "Apple Airpods Headphones       150.00\n",
       "Bose SoundSport Headphones      99.99\n",
       "Flatscreen TV                  300.00\n",
       "Google Phone                   600.00\n",
       "LG Dryer                       600.00\n",
       "LG Washing Machine             600.00\n",
       "Lightning Charging Cable        14.95\n",
       "Macbook Pro Laptop            1700.00\n",
       "ThinkPad Laptop                999.99\n",
       "USB-C Charging Cable            11.95\n",
       "Vareebadd Phone                400.00\n",
       "Wired Headphones                11.99\n",
       "iPhone                         700.00\n",
       "Name: Price Each, dtype: float64"
      ]
     },
     "execution_count": 65,
     "metadata": {},
     "output_type": "execute_result"
    }
   ],
   "source": [
    "all_data.groupby('Product')['Price Each'].mean()"
   ]
  },
  {
   "cell_type": "code",
   "execution_count": 66,
   "id": "dbf806e0",
   "metadata": {},
   "outputs": [],
   "source": [
    "# so to define that analysis I am going to say, My product is basically, sp I am going to store the price data\n",
    "# in my products value,and then I am going to define another series which is quantity,so It will give me quantity\n",
    "# of each of the product,now I am going to store the above all value in price series,Now all my data structure are \n",
    "#, ready and we will plot it in the next step,"
   ]
  },
  {
   "cell_type": "code",
   "execution_count": 67,
   "id": "f5056a6e",
   "metadata": {},
   "outputs": [],
   "source": [
    "products=all_data.groupby('Product')['Quantity Ordered'].sum().index\n",
    "quantity=all_data.groupby('Product')['Quantity Ordered'].sum()\n",
    "prices=all_data.groupby('Product')['Price Each'].mean()"
   ]
  },
  {
   "cell_type": "code",
   "execution_count": 68,
   "id": "ea36f2f1",
   "metadata": {},
   "outputs": [],
   "source": [
    "# I will use subplot,by default the sub-plot value is (1,1)so It will  return me a 1,1 dimension.\n",
    "#which will give me a figure a fig is a multiple container,with ax1 axis with the help of color method I have assigned\n",
    "# as green color.Then I have to mention what is my 2nd-axis,I will say ax2 = ax1.twinx(),it helps to create a twin-axis\n",
    "# by sharing the x-axis,so on ax2 I have to plot, product,prices of each product,\n",
    "#for getting I will apply toration on ax1, and will change the size"
   ]
  },
  {
   "cell_type": "code",
   "execution_count": 69,
   "id": "0e87757e",
   "metadata": {},
   "outputs": [
    {
     "name": "stderr",
     "output_type": "stream",
     "text": [
      "<ipython-input-69-ab1f00f14086>:5: UserWarning: FixedFormatter should only be used together with FixedLocator\n",
      "  ax1.set_xticklabels(products,rotation='vertical',size=8)\n"
     ]
    },
    {
     "data": {
      "text/plain": [
       "[Text(0, 0, '20in Monitor'),\n",
       " Text(1, 0, '27in 4K Gaming Monitor'),\n",
       " Text(2, 0, '27in FHD Monitor'),\n",
       " Text(3, 0, '34in Ultrawide Monitor'),\n",
       " Text(4, 0, 'AA Batteries (4-pack)'),\n",
       " Text(5, 0, 'AAA Batteries (4-pack)'),\n",
       " Text(6, 0, 'Apple Airpods Headphones'),\n",
       " Text(7, 0, 'Bose SoundSport Headphones'),\n",
       " Text(8, 0, 'Flatscreen TV'),\n",
       " Text(9, 0, 'Google Phone'),\n",
       " Text(10, 0, 'LG Dryer'),\n",
       " Text(11, 0, 'LG Washing Machine'),\n",
       " Text(12, 0, 'Lightning Charging Cable'),\n",
       " Text(13, 0, 'Macbook Pro Laptop'),\n",
       " Text(14, 0, 'ThinkPad Laptop'),\n",
       " Text(15, 0, 'USB-C Charging Cable'),\n",
       " Text(16, 0, 'Vareebadd Phone'),\n",
       " Text(17, 0, 'Wired Headphones'),\n",
       " Text(18, 0, 'iPhone')]"
      ]
     },
     "execution_count": 69,
     "metadata": {},
     "output_type": "execute_result"
    },
    {
     "data": {
      "image/png": "[encoded data removed]",
      "text/plain": [
       "<Figure size 432x288 with 2 Axes>"
      ]
     },
     "metadata": {
      "needs_background": "light"
     },
     "output_type": "display_data"
    }
   ],
   "source": [
    "fig,ax1=plt.subplots()\n",
    "ax2=ax1.twinx()\n",
    "ax1.bar(products,quantity,color='g')\n",
    "ax2.plot(products,prices)\n",
    "ax1.set_xticklabels(products,rotation='vertical',size=8)"
   ]
  },
  {
   "cell_type": "code",
   "execution_count": null,
   "id": "c08a4ef1",
   "metadata": {},
   "outputs": [],
   "source": [
    "# as we can see from the output that triple A battery is my top selling product,and the top selling product have the \n",
    "# correlation with the price of the product.so basically the cheaper the product the higher the quantity oreder."
   ]
  },
  {
   "cell_type": "markdown",
   "id": "326d2651",
   "metadata": {},
   "source": [
    "WHAT PRODUCTS ARE MOST OFTEN SOLD TOGETHER?"
   ]
  },
  {
   "cell_type": "code",
   "execution_count": null,
   "id": "2a92a67b",
   "metadata": {},
   "outputs": [],
   "source": [
    "# IF I am going to call the head-over of my data-frame,as we can see our orederID,as per our question, what products \n",
    "#are sold together,we need to see those order which has same oreder ID, that are mostly sold together,so now \n",
    "# I am going to keep those oreder ID that has some duplicate value,I keep it False, to find all my duplicate value.\n",
    "# then I will pass the created filter with my own Data-Frame,if we call the head over entries, we can see we have same\n",
    "# oreder-id data-entries."
   ]
  },
  {
   "cell_type": "code",
   "execution_count": 70,
   "id": "e8baea5f",
   "metadata": {},
   "outputs": [
    {
     "data": {
      "text/html": [
       "<div>\n",
       "<style scoped>\n",
       "    .dataframe tbody tr th:only-of-type {\n",
       "        vertical-align: middle;\n",
       "    }\n",
       "\n",
       "    .dataframe tbody tr th {\n",
       "        vertical-align: top;\n",
       "    }\n",
       "\n",
       "    .dataframe thead th {\n",
       "        text-align: right;\n",
       "    }\n",
       "</style>\n",
       "<table border=\"1\" class=\"dataframe\">\n",
       "  <thead>\n",
       "    <tr style=\"text-align: right;\">\n",
       "      <th></th>\n",
       "      <th>Order ID</th>\n",
       "      <th>Product</th>\n",
       "      <th>Quantity Ordered</th>\n",
       "      <th>Price Each</th>\n",
       "      <th>Order Date</th>\n",
       "      <th>Purchase Address</th>\n",
       "      <th>Unnamed: 0</th>\n",
       "      <th>month</th>\n",
       "      <th>sales</th>\n",
       "      <th>city</th>\n",
       "      <th>Hour</th>\n",
       "    </tr>\n",
       "  </thead>\n",
       "  <tbody>\n",
       "    <tr>\n",
       "      <th>0</th>\n",
       "      <td>295665</td>\n",
       "      <td>Macbook Pro Laptop</td>\n",
       "      <td>1</td>\n",
       "      <td>1700.00</td>\n",
       "      <td>12/30/19 00:01</td>\n",
       "      <td>136 Church St, New York City, NY 10001</td>\n",
       "      <td>NaN</td>\n",
       "      <td>12</td>\n",
       "      <td>1700.00</td>\n",
       "      <td>New York City</td>\n",
       "      <td>0</td>\n",
       "    </tr>\n",
       "    <tr>\n",
       "      <th>1</th>\n",
       "      <td>295666</td>\n",
       "      <td>LG Washing Machine</td>\n",
       "      <td>1</td>\n",
       "      <td>600.00</td>\n",
       "      <td>12/29/19 07:03</td>\n",
       "      <td>562 2nd St, New York City, NY 10001</td>\n",
       "      <td>NaN</td>\n",
       "      <td>12</td>\n",
       "      <td>600.00</td>\n",
       "      <td>New York City</td>\n",
       "      <td>7</td>\n",
       "    </tr>\n",
       "    <tr>\n",
       "      <th>2</th>\n",
       "      <td>295667</td>\n",
       "      <td>USB-C Charging Cable</td>\n",
       "      <td>1</td>\n",
       "      <td>11.95</td>\n",
       "      <td>12/12/19 18:21</td>\n",
       "      <td>277 Main St, New York City, NY 10001</td>\n",
       "      <td>NaN</td>\n",
       "      <td>12</td>\n",
       "      <td>11.95</td>\n",
       "      <td>New York City</td>\n",
       "      <td>18</td>\n",
       "    </tr>\n",
       "    <tr>\n",
       "      <th>3</th>\n",
       "      <td>295668</td>\n",
       "      <td>27in FHD Monitor</td>\n",
       "      <td>1</td>\n",
       "      <td>149.99</td>\n",
       "      <td>12/22/19 15:13</td>\n",
       "      <td>410 6th St, San Francisco, CA 94016</td>\n",
       "      <td>NaN</td>\n",
       "      <td>12</td>\n",
       "      <td>149.99</td>\n",
       "      <td>San Francisco</td>\n",
       "      <td>15</td>\n",
       "    </tr>\n",
       "    <tr>\n",
       "      <th>4</th>\n",
       "      <td>295669</td>\n",
       "      <td>USB-C Charging Cable</td>\n",
       "      <td>1</td>\n",
       "      <td>11.95</td>\n",
       "      <td>12/18/19 12:38</td>\n",
       "      <td>43 Hill St, Atlanta, GA 30301</td>\n",
       "      <td>NaN</td>\n",
       "      <td>12</td>\n",
       "      <td>11.95</td>\n",
       "      <td>Atlanta</td>\n",
       "      <td>12</td>\n",
       "    </tr>\n",
       "  </tbody>\n",
       "</table>\n",
       "</div>"
      ],
      "text/plain": [
       "  Order ID               Product  Quantity Ordered  Price Each  \\\n",
       "0   295665    Macbook Pro Laptop                 1     1700.00   \n",
       "1   295666    LG Washing Machine                 1      600.00   \n",
       "2   295667  USB-C Charging Cable                 1       11.95   \n",
       "3   295668      27in FHD Monitor                 1      149.99   \n",
       "4   295669  USB-C Charging Cable                 1       11.95   \n",
       "\n",
       "       Order Date                        Purchase Address Unnamed: 0  month  \\\n",
       "0  12/30/19 00:01  136 Church St, New York City, NY 10001        NaN     12   \n",
       "1  12/29/19 07:03     562 2nd St, New York City, NY 10001        NaN     12   \n",
       "2  12/12/19 18:21    277 Main St, New York City, NY 10001        NaN     12   \n",
       "3  12/22/19 15:13     410 6th St, San Francisco, CA 94016        NaN     12   \n",
       "4  12/18/19 12:38           43 Hill St, Atlanta, GA 30301        NaN     12   \n",
       "\n",
       "     sales            city  Hour  \n",
       "0  1700.00   New York City     0  \n",
       "1   600.00   New York City     7  \n",
       "2    11.95   New York City    18  \n",
       "3   149.99   San Francisco    15  \n",
       "4    11.95         Atlanta    12  "
      ]
     },
     "execution_count": 70,
     "metadata": {},
     "output_type": "execute_result"
    }
   ],
   "source": [
    "all_data.head()"
   ]
  },
  {
   "cell_type": "code",
   "execution_count": 71,
   "id": "046ad44b",
   "metadata": {},
   "outputs": [
    {
     "data": {
      "text/html": [
       "<div>\n",
       "<style scoped>\n",
       "    .dataframe tbody tr th:only-of-type {\n",
       "        vertical-align: middle;\n",
       "    }\n",
       "\n",
       "    .dataframe tbody tr th {\n",
       "        vertical-align: top;\n",
       "    }\n",
       "\n",
       "    .dataframe thead th {\n",
       "        text-align: right;\n",
       "    }\n",
       "</style>\n",
       "<table border=\"1\" class=\"dataframe\">\n",
       "  <thead>\n",
       "    <tr style=\"text-align: right;\">\n",
       "      <th></th>\n",
       "      <th>Order ID</th>\n",
       "      <th>Product</th>\n",
       "      <th>Quantity Ordered</th>\n",
       "      <th>Price Each</th>\n",
       "      <th>Order Date</th>\n",
       "      <th>Purchase Address</th>\n",
       "      <th>Unnamed: 0</th>\n",
       "      <th>month</th>\n",
       "      <th>sales</th>\n",
       "      <th>city</th>\n",
       "      <th>Hour</th>\n",
       "    </tr>\n",
       "  </thead>\n",
       "  <tbody>\n",
       "    <tr>\n",
       "      <th>0</th>\n",
       "      <td>295665</td>\n",
       "      <td>Macbook Pro Laptop</td>\n",
       "      <td>1</td>\n",
       "      <td>1700.00</td>\n",
       "      <td>12/30/19 00:01</td>\n",
       "      <td>136 Church St, New York City, NY 10001</td>\n",
       "      <td>NaN</td>\n",
       "      <td>12</td>\n",
       "      <td>1700.00</td>\n",
       "      <td>New York City</td>\n",
       "      <td>0</td>\n",
       "    </tr>\n",
       "    <tr>\n",
       "      <th>1</th>\n",
       "      <td>295666</td>\n",
       "      <td>LG Washing Machine</td>\n",
       "      <td>1</td>\n",
       "      <td>600.00</td>\n",
       "      <td>12/29/19 07:03</td>\n",
       "      <td>562 2nd St, New York City, NY 10001</td>\n",
       "      <td>NaN</td>\n",
       "      <td>12</td>\n",
       "      <td>600.00</td>\n",
       "      <td>New York City</td>\n",
       "      <td>7</td>\n",
       "    </tr>\n",
       "    <tr>\n",
       "      <th>2</th>\n",
       "      <td>295667</td>\n",
       "      <td>USB-C Charging Cable</td>\n",
       "      <td>1</td>\n",
       "      <td>11.95</td>\n",
       "      <td>12/12/19 18:21</td>\n",
       "      <td>277 Main St, New York City, NY 10001</td>\n",
       "      <td>NaN</td>\n",
       "      <td>12</td>\n",
       "      <td>11.95</td>\n",
       "      <td>New York City</td>\n",
       "      <td>18</td>\n",
       "    </tr>\n",
       "    <tr>\n",
       "      <th>3</th>\n",
       "      <td>295668</td>\n",
       "      <td>27in FHD Monitor</td>\n",
       "      <td>1</td>\n",
       "      <td>149.99</td>\n",
       "      <td>12/22/19 15:13</td>\n",
       "      <td>410 6th St, San Francisco, CA 94016</td>\n",
       "      <td>NaN</td>\n",
       "      <td>12</td>\n",
       "      <td>149.99</td>\n",
       "      <td>San Francisco</td>\n",
       "      <td>15</td>\n",
       "    </tr>\n",
       "    <tr>\n",
       "      <th>4</th>\n",
       "      <td>295669</td>\n",
       "      <td>USB-C Charging Cable</td>\n",
       "      <td>1</td>\n",
       "      <td>11.95</td>\n",
       "      <td>12/18/19 12:38</td>\n",
       "      <td>43 Hill St, Atlanta, GA 30301</td>\n",
       "      <td>NaN</td>\n",
       "      <td>12</td>\n",
       "      <td>11.95</td>\n",
       "      <td>Atlanta</td>\n",
       "      <td>12</td>\n",
       "    </tr>\n",
       "  </tbody>\n",
       "</table>\n",
       "</div>"
      ],
      "text/plain": [
       "  Order ID               Product  Quantity Ordered  Price Each  \\\n",
       "0   295665    Macbook Pro Laptop                 1     1700.00   \n",
       "1   295666    LG Washing Machine                 1      600.00   \n",
       "2   295667  USB-C Charging Cable                 1       11.95   \n",
       "3   295668      27in FHD Monitor                 1      149.99   \n",
       "4   295669  USB-C Charging Cable                 1       11.95   \n",
       "\n",
       "       Order Date                        Purchase Address Unnamed: 0  month  \\\n",
       "0  12/30/19 00:01  136 Church St, New York City, NY 10001        NaN     12   \n",
       "1  12/29/19 07:03     562 2nd St, New York City, NY 10001        NaN     12   \n",
       "2  12/12/19 18:21    277 Main St, New York City, NY 10001        NaN     12   \n",
       "3  12/22/19 15:13     410 6th St, San Francisco, CA 94016        NaN     12   \n",
       "4  12/18/19 12:38           43 Hill St, Atlanta, GA 30301        NaN     12   \n",
       "\n",
       "     sales            city  Hour  \n",
       "0  1700.00   New York City     0  \n",
       "1   600.00   New York City     7  \n",
       "2    11.95   New York City    18  \n",
       "3   149.99   San Francisco    15  \n",
       "4    11.95         Atlanta    12  "
      ]
     },
     "execution_count": 71,
     "metadata": {},
     "output_type": "execute_result"
    }
   ],
   "source": [
    "df= all_data['Order ID'].duplicated(keep=False)\n",
    "df2=all_data[df]\n",
    "df2.head()"
   ]
  },
  {
   "cell_type": "code",
   "execution_count": null,
   "id": "6f09bc92",
   "metadata": {},
   "outputs": [],
   "source": [
    "# now my data is ready to apply the transformation or to reach for the problem statement, now I am going to call a \n",
    "# groupby on this oreder-ID,Once I have a group I have to access the product column,and then I have to perform a joint \n",
    "# operation over here,I will say transform, I am going to join the order ID,with lamda X and in this I have to perform \n",
    "# joint now,Now I would like to store my joint value in a column, so I would say it 'Grouped'"
   ]
  },
  {
   "cell_type": "code",
   "execution_count": 74,
   "id": "d496d38c",
   "metadata": {},
   "outputs": [],
   "source": [
    "df2['Grouped']=df2.groupby('Order ID')['Product'].transform(lambda x:','.join(x))"
   ]
  },
  {
   "cell_type": "code",
   "execution_count": 75,
   "id": "3d156629",
   "metadata": {},
   "outputs": [
    {
     "data": {
      "text/html": [
       "<div>\n",
       "<style scoped>\n",
       "    .dataframe tbody tr th:only-of-type {\n",
       "        vertical-align: middle;\n",
       "    }\n",
       "\n",
       "    .dataframe tbody tr th {\n",
       "        vertical-align: top;\n",
       "    }\n",
       "\n",
       "    .dataframe thead th {\n",
       "        text-align: right;\n",
       "    }\n",
       "</style>\n",
       "<table border=\"1\" class=\"dataframe\">\n",
       "  <thead>\n",
       "    <tr style=\"text-align: right;\">\n",
       "      <th></th>\n",
       "      <th>Order ID</th>\n",
       "      <th>Product</th>\n",
       "      <th>Quantity Ordered</th>\n",
       "      <th>Price Each</th>\n",
       "      <th>Order Date</th>\n",
       "      <th>Purchase Address</th>\n",
       "      <th>Unnamed: 0</th>\n",
       "      <th>month</th>\n",
       "      <th>sales</th>\n",
       "      <th>city</th>\n",
       "      <th>Hour</th>\n",
       "      <th>Grouped</th>\n",
       "    </tr>\n",
       "  </thead>\n",
       "  <tbody>\n",
       "    <tr>\n",
       "      <th>0</th>\n",
       "      <td>295665</td>\n",
       "      <td>Macbook Pro Laptop</td>\n",
       "      <td>1</td>\n",
       "      <td>1700.00</td>\n",
       "      <td>12/30/19 00:01</td>\n",
       "      <td>136 Church St, New York City, NY 10001</td>\n",
       "      <td>NaN</td>\n",
       "      <td>12</td>\n",
       "      <td>1700.00</td>\n",
       "      <td>New York City</td>\n",
       "      <td>0</td>\n",
       "      <td>Macbook Pro Laptop,Macbook Pro Laptop,Macbook ...</td>\n",
       "    </tr>\n",
       "    <tr>\n",
       "      <th>1</th>\n",
       "      <td>295666</td>\n",
       "      <td>LG Washing Machine</td>\n",
       "      <td>1</td>\n",
       "      <td>600.00</td>\n",
       "      <td>12/29/19 07:03</td>\n",
       "      <td>562 2nd St, New York City, NY 10001</td>\n",
       "      <td>NaN</td>\n",
       "      <td>12</td>\n",
       "      <td>600.00</td>\n",
       "      <td>New York City</td>\n",
       "      <td>7</td>\n",
       "      <td>LG Washing Machine,LG Washing Machine,LG Washi...</td>\n",
       "    </tr>\n",
       "    <tr>\n",
       "      <th>2</th>\n",
       "      <td>295667</td>\n",
       "      <td>USB-C Charging Cable</td>\n",
       "      <td>1</td>\n",
       "      <td>11.95</td>\n",
       "      <td>12/12/19 18:21</td>\n",
       "      <td>277 Main St, New York City, NY 10001</td>\n",
       "      <td>NaN</td>\n",
       "      <td>12</td>\n",
       "      <td>11.95</td>\n",
       "      <td>New York City</td>\n",
       "      <td>18</td>\n",
       "      <td>USB-C Charging Cable,USB-C Charging Cable,USB-...</td>\n",
       "    </tr>\n",
       "    <tr>\n",
       "      <th>3</th>\n",
       "      <td>295668</td>\n",
       "      <td>27in FHD Monitor</td>\n",
       "      <td>1</td>\n",
       "      <td>149.99</td>\n",
       "      <td>12/22/19 15:13</td>\n",
       "      <td>410 6th St, San Francisco, CA 94016</td>\n",
       "      <td>NaN</td>\n",
       "      <td>12</td>\n",
       "      <td>149.99</td>\n",
       "      <td>San Francisco</td>\n",
       "      <td>15</td>\n",
       "      <td>27in FHD Monitor,27in FHD Monitor,27in FHD Mon...</td>\n",
       "    </tr>\n",
       "    <tr>\n",
       "      <th>4</th>\n",
       "      <td>295669</td>\n",
       "      <td>USB-C Charging Cable</td>\n",
       "      <td>1</td>\n",
       "      <td>11.95</td>\n",
       "      <td>12/18/19 12:38</td>\n",
       "      <td>43 Hill St, Atlanta, GA 30301</td>\n",
       "      <td>NaN</td>\n",
       "      <td>12</td>\n",
       "      <td>11.95</td>\n",
       "      <td>Atlanta</td>\n",
       "      <td>12</td>\n",
       "      <td>USB-C Charging Cable,USB-C Charging Cable,USB-...</td>\n",
       "    </tr>\n",
       "  </tbody>\n",
       "</table>\n",
       "</div>"
      ],
      "text/plain": [
       "  Order ID               Product  Quantity Ordered  Price Each  \\\n",
       "0   295665    Macbook Pro Laptop                 1     1700.00   \n",
       "1   295666    LG Washing Machine                 1      600.00   \n",
       "2   295667  USB-C Charging Cable                 1       11.95   \n",
       "3   295668      27in FHD Monitor                 1      149.99   \n",
       "4   295669  USB-C Charging Cable                 1       11.95   \n",
       "\n",
       "       Order Date                        Purchase Address Unnamed: 0  month  \\\n",
       "0  12/30/19 00:01  136 Church St, New York City, NY 10001        NaN     12   \n",
       "1  12/29/19 07:03     562 2nd St, New York City, NY 10001        NaN     12   \n",
       "2  12/12/19 18:21    277 Main St, New York City, NY 10001        NaN     12   \n",
       "3  12/22/19 15:13     410 6th St, San Francisco, CA 94016        NaN     12   \n",
       "4  12/18/19 12:38           43 Hill St, Atlanta, GA 30301        NaN     12   \n",
       "\n",
       "     sales            city  Hour  \\\n",
       "0  1700.00   New York City     0   \n",
       "1   600.00   New York City     7   \n",
       "2    11.95   New York City    18   \n",
       "3   149.99   San Francisco    15   \n",
       "4    11.95         Atlanta    12   \n",
       "\n",
       "                                             Grouped  \n",
       "0  Macbook Pro Laptop,Macbook Pro Laptop,Macbook ...  \n",
       "1  LG Washing Machine,LG Washing Machine,LG Washi...  \n",
       "2  USB-C Charging Cable,USB-C Charging Cable,USB-...  \n",
       "3  27in FHD Monitor,27in FHD Monitor,27in FHD Mon...  \n",
       "4  USB-C Charging Cable,USB-C Charging Cable,USB-...  "
      ]
     },
     "execution_count": 75,
     "metadata": {},
     "output_type": "execute_result"
    }
   ],
   "source": [
    "# going to call the headover of my data-frame,\n",
    "df2.head()"
   ]
  },
  {
   "cell_type": "code",
   "execution_count": null,
   "id": "4e728053",
   "metadata": {},
   "outputs": [],
   "source": [
    "# now we can see our group column,I have to rempve the same records for Groups column as they will get repeated,\n",
    "# That is why I am going to call the drop function,and then I have to tell on what basis I want to remove it, and \n",
    "# will mention here as 'Order ID',"
   ]
  },
  {
   "cell_type": "code",
   "execution_count": 76,
   "id": "ab60dbd9",
   "metadata": {},
   "outputs": [],
   "source": [
    "df2=df2.drop_duplicates(subset=['Order ID'])"
   ]
  },
  {
   "cell_type": "code",
   "execution_count": 77,
   "id": "6e264fc0",
   "metadata": {},
   "outputs": [
    {
     "data": {
      "text/html": [
       "<div>\n",
       "<style scoped>\n",
       "    .dataframe tbody tr th:only-of-type {\n",
       "        vertical-align: middle;\n",
       "    }\n",
       "\n",
       "    .dataframe tbody tr th {\n",
       "        vertical-align: top;\n",
       "    }\n",
       "\n",
       "    .dataframe thead th {\n",
       "        text-align: right;\n",
       "    }\n",
       "</style>\n",
       "<table border=\"1\" class=\"dataframe\">\n",
       "  <thead>\n",
       "    <tr style=\"text-align: right;\">\n",
       "      <th></th>\n",
       "      <th>Order ID</th>\n",
       "      <th>Product</th>\n",
       "      <th>Quantity Ordered</th>\n",
       "      <th>Price Each</th>\n",
       "      <th>Order Date</th>\n",
       "      <th>Purchase Address</th>\n",
       "      <th>Unnamed: 0</th>\n",
       "      <th>month</th>\n",
       "      <th>sales</th>\n",
       "      <th>city</th>\n",
       "      <th>Hour</th>\n",
       "      <th>Grouped</th>\n",
       "    </tr>\n",
       "  </thead>\n",
       "  <tbody>\n",
       "    <tr>\n",
       "      <th>0</th>\n",
       "      <td>295665</td>\n",
       "      <td>Macbook Pro Laptop</td>\n",
       "      <td>1</td>\n",
       "      <td>1700.00</td>\n",
       "      <td>12/30/19 00:01</td>\n",
       "      <td>136 Church St, New York City, NY 10001</td>\n",
       "      <td>NaN</td>\n",
       "      <td>12</td>\n",
       "      <td>1700.00</td>\n",
       "      <td>New York City</td>\n",
       "      <td>0</td>\n",
       "      <td>Macbook Pro Laptop,Macbook Pro Laptop,Macbook ...</td>\n",
       "    </tr>\n",
       "    <tr>\n",
       "      <th>1</th>\n",
       "      <td>295666</td>\n",
       "      <td>LG Washing Machine</td>\n",
       "      <td>1</td>\n",
       "      <td>600.00</td>\n",
       "      <td>12/29/19 07:03</td>\n",
       "      <td>562 2nd St, New York City, NY 10001</td>\n",
       "      <td>NaN</td>\n",
       "      <td>12</td>\n",
       "      <td>600.00</td>\n",
       "      <td>New York City</td>\n",
       "      <td>7</td>\n",
       "      <td>LG Washing Machine,LG Washing Machine,LG Washi...</td>\n",
       "    </tr>\n",
       "    <tr>\n",
       "      <th>2</th>\n",
       "      <td>295667</td>\n",
       "      <td>USB-C Charging Cable</td>\n",
       "      <td>1</td>\n",
       "      <td>11.95</td>\n",
       "      <td>12/12/19 18:21</td>\n",
       "      <td>277 Main St, New York City, NY 10001</td>\n",
       "      <td>NaN</td>\n",
       "      <td>12</td>\n",
       "      <td>11.95</td>\n",
       "      <td>New York City</td>\n",
       "      <td>18</td>\n",
       "      <td>USB-C Charging Cable,USB-C Charging Cable,USB-...</td>\n",
       "    </tr>\n",
       "    <tr>\n",
       "      <th>3</th>\n",
       "      <td>295668</td>\n",
       "      <td>27in FHD Monitor</td>\n",
       "      <td>1</td>\n",
       "      <td>149.99</td>\n",
       "      <td>12/22/19 15:13</td>\n",
       "      <td>410 6th St, San Francisco, CA 94016</td>\n",
       "      <td>NaN</td>\n",
       "      <td>12</td>\n",
       "      <td>149.99</td>\n",
       "      <td>San Francisco</td>\n",
       "      <td>15</td>\n",
       "      <td>27in FHD Monitor,27in FHD Monitor,27in FHD Mon...</td>\n",
       "    </tr>\n",
       "    <tr>\n",
       "      <th>4</th>\n",
       "      <td>295669</td>\n",
       "      <td>USB-C Charging Cable</td>\n",
       "      <td>1</td>\n",
       "      <td>11.95</td>\n",
       "      <td>12/18/19 12:38</td>\n",
       "      <td>43 Hill St, Atlanta, GA 30301</td>\n",
       "      <td>NaN</td>\n",
       "      <td>12</td>\n",
       "      <td>11.95</td>\n",
       "      <td>Atlanta</td>\n",
       "      <td>12</td>\n",
       "      <td>USB-C Charging Cable,USB-C Charging Cable,USB-...</td>\n",
       "    </tr>\n",
       "  </tbody>\n",
       "</table>\n",
       "</div>"
      ],
      "text/plain": [
       "  Order ID               Product  Quantity Ordered  Price Each  \\\n",
       "0   295665    Macbook Pro Laptop                 1     1700.00   \n",
       "1   295666    LG Washing Machine                 1      600.00   \n",
       "2   295667  USB-C Charging Cable                 1       11.95   \n",
       "3   295668      27in FHD Monitor                 1      149.99   \n",
       "4   295669  USB-C Charging Cable                 1       11.95   \n",
       "\n",
       "       Order Date                        Purchase Address Unnamed: 0  month  \\\n",
       "0  12/30/19 00:01  136 Church St, New York City, NY 10001        NaN     12   \n",
       "1  12/29/19 07:03     562 2nd St, New York City, NY 10001        NaN     12   \n",
       "2  12/12/19 18:21    277 Main St, New York City, NY 10001        NaN     12   \n",
       "3  12/22/19 15:13     410 6th St, San Francisco, CA 94016        NaN     12   \n",
       "4  12/18/19 12:38           43 Hill St, Atlanta, GA 30301        NaN     12   \n",
       "\n",
       "     sales            city  Hour  \\\n",
       "0  1700.00   New York City     0   \n",
       "1   600.00   New York City     7   \n",
       "2    11.95   New York City    18   \n",
       "3   149.99   San Francisco    15   \n",
       "4    11.95         Atlanta    12   \n",
       "\n",
       "                                             Grouped  \n",
       "0  Macbook Pro Laptop,Macbook Pro Laptop,Macbook ...  \n",
       "1  LG Washing Machine,LG Washing Machine,LG Washi...  \n",
       "2  USB-C Charging Cable,USB-C Charging Cable,USB-...  \n",
       "3  27in FHD Monitor,27in FHD Monitor,27in FHD Mon...  \n",
       "4  USB-C Charging Cable,USB-C Charging Cable,USB-...  "
      ]
     },
     "execution_count": 77,
     "metadata": {},
     "output_type": "execute_result"
    }
   ],
   "source": [
    "df2.head()"
   ]
  },
  {
   "cell_type": "code",
   "execution_count": null,
   "id": "ab1490d4",
   "metadata": {},
   "outputs": [],
   "source": [
    "# Now we do not have any repeated order ID in our data,Now I am going to access my group column,and then will call\n",
    "# value-counts, which will give me the count for each of the grouped products,"
   ]
  },
  {
   "cell_type": "code",
   "execution_count": 78,
   "id": "228e7933",
   "metadata": {},
   "outputs": [
    {
     "data": {
      "text/plain": [
       "Lightning Charging Cable,Lightning Charging Cable,Lightning Charging Cable,Lightning Charging Cable                                                                                                                                                                                                                                                                18612\n",
       "AAA Batteries (4-pack),AAA Batteries (4-pack),AAA Batteries (4-pack),AAA Batteries (4-pack)                                                                                                                                                                                                                                                                        18585\n",
       "AA Batteries (4-pack),AA Batteries (4-pack),AA Batteries (4-pack),AA Batteries (4-pack)                                                                                                                                                                                                                                                                            18532\n",
       "USB-C Charging Cable,USB-C Charging Cable,USB-C Charging Cable,USB-C Charging Cable                                                                                                                                                                                                                                                                                18458\n",
       "Wired Headphones,Wired Headphones,Wired Headphones,Wired Headphones                                                                                                                                                                                                                                                                                                16112\n",
       "                                                                                                                                                                                                                                                                                                                                                                   ...  \n",
       "27in 4K Gaming Monitor,Wired Headphones,27in 4K Gaming Monitor,Wired Headphones,27in 4K Gaming Monitor,Wired Headphones,27in 4K Gaming Monitor,Wired Headphones,27in 4K Gaming Monitor,Wired Headphones,27in 4K Gaming Monitor,Wired Headphones,27in 4K Gaming Monitor,Wired Headphones,27in 4K Gaming Monitor,Wired Headphones                                        1\n",
       "USB-C Charging Cable,AA Batteries (4-pack),USB-C Charging Cable,AA Batteries (4-pack),USB-C Charging Cable,AA Batteries (4-pack),USB-C Charging Cable,AA Batteries (4-pack),USB-C Charging Cable,AA Batteries (4-pack),USB-C Charging Cable,AA Batteries (4-pack),USB-C Charging Cable,AA Batteries (4-pack),USB-C Charging Cable,AA Batteries (4-pack)                1\n",
       "USB-C Charging Cable,Google Phone,USB-C Charging Cable,Google Phone,USB-C Charging Cable,Google Phone,USB-C Charging Cable,Google Phone,USB-C Charging Cable,Google Phone,USB-C Charging Cable,Google Phone,USB-C Charging Cable,Google Phone,USB-C Charging Cable,Google Phone                                                                                        1\n",
       "Bose SoundSport Headphones,27in FHD Monitor,Bose SoundSport Headphones,27in FHD Monitor,Bose SoundSport Headphones,27in FHD Monitor,Bose SoundSport Headphones,27in FHD Monitor,Bose SoundSport Headphones,27in FHD Monitor,Bose SoundSport Headphones,27in FHD Monitor,Bose SoundSport Headphones,27in FHD Monitor,Bose SoundSport Headphones,27in FHD Monitor        1\n",
       "Wired Headphones,USB-C Charging Cable,Wired Headphones,USB-C Charging Cable,Wired Headphones,USB-C Charging Cable,Wired Headphones,USB-C Charging Cable,Wired Headphones,USB-C Charging Cable,Wired Headphones,USB-C Charging Cable,Wired Headphones,USB-C Charging Cable,Wired Headphones,USB-C Charging Cable                                                        1\n",
       "Name: Grouped, Length: 526, dtype: int64"
      ]
     },
     "execution_count": 78,
     "metadata": {},
     "output_type": "execute_result"
    }
   ],
   "source": [
    "df2['Grouped'].value_counts()"
   ]
  },
  {
   "cell_type": "code",
   "execution_count": null,
   "id": "bca5e33a",
   "metadata": {},
   "outputs": [],
   "source": [
    "# Now I would like to get the the first five group product,and then I will plot it with a pie-chart,"
   ]
  },
  {
   "cell_type": "code",
   "execution_count": 79,
   "id": "b712007a",
   "metadata": {},
   "outputs": [
    {
     "data": {
      "text/plain": [
       "<AxesSubplot:ylabel='Grouped'>"
      ]
     },
     "execution_count": 79,
     "metadata": {},
     "output_type": "execute_result"
    },
    {
     "data": {
      "image/png": "[encoded data removed]",
      "text/plain": [
       "<Figure size 432x288 with 1 Axes>"
      ]
     },
     "metadata": {},
     "output_type": "display_data"
    }
   ],
   "source": [
    "df2['Grouped'].value_counts()[0:5].plot.pie()"
   ]
  },
  {
   "cell_type": "code",
   "execution_count": null,
   "id": "2702e9b3",
   "metadata": {},
   "outputs": [],
   "source": [
    "# so from this pie-chart we can analyse,that blue and orange zone,Lighting charging the blue color part group is the \n",
    "# higest selling,"
   ]
  }
 ],
 "metadata": {
  "kernelspec": {
   "display_name": "Python 3",
   "language": "python",
   "name": "python3"
  },
  "language_info": {
   "codemirror_mode": {
    "name": "ipython",
    "version": 3
   },
   "file_extension": ".py",
   "mimetype": "text/x-python",
   "name": "python",
   "nbconvert_exporter": "python",
   "pygments_lexer": "ipython3",
   "version": "3.8.8"
  }
 },
 "nbformat": 4,
 "nbformat_minor": 5
}
